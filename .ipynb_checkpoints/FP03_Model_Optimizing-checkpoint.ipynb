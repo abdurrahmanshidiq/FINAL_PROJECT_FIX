{
 "cells": [
  {
   "cell_type": "code",
   "execution_count": 1,
   "metadata": {},
   "outputs": [],
   "source": [
    "import numpy as np\n",
    "import pandas as pd\n",
    "import matplotlib.pyplot as plt\n",
    "import seaborn as sns\n",
    "\n",
    "from sklearn.preprocessing import StandardScaler\n",
    "from imblearn.over_sampling import SMOTE\n",
    "from sklearn.model_selection import train_test_split\n",
    "from sklearn.linear_model import LogisticRegression\n",
    "from sklearn.neighbors import KNeighborsClassifier\n",
    "from sklearn.tree import DecisionTreeClassifier\n",
    "from sklearn.ensemble import RandomForestClassifier\n",
    "from sklearn.ensemble import AdaBoostClassifier\n",
    "from sklearn.ensemble import GradientBoostingClassifier\n",
    "from sklearn.metrics import plot_confusion_matrix, confusion_matrix, classification_report, f1_score, precision_score, recall_score, roc_curve, roc_auc_score, auc\n",
    "\n",
    "from sklearn.model_selection import RandomizedSearchCV\n",
    "\n",
    "sns.set_style('darkgrid')\n",
    "%matplotlib inline"
   ]
  },
  {
   "cell_type": "markdown",
   "metadata": {},
   "source": [
    "## Import Data"
   ]
  },
  {
   "cell_type": "code",
   "execution_count": 2,
   "metadata": {},
   "outputs": [
    {
     "data": {
      "text/html": [
       "<div>\n",
       "<style scoped>\n",
       "    .dataframe tbody tr th:only-of-type {\n",
       "        vertical-align: middle;\n",
       "    }\n",
       "\n",
       "    .dataframe tbody tr th {\n",
       "        vertical-align: top;\n",
       "    }\n",
       "\n",
       "    .dataframe thead th {\n",
       "        text-align: right;\n",
       "    }\n",
       "</style>\n",
       "<table border=\"1\" class=\"dataframe\">\n",
       "  <thead>\n",
       "    <tr style=\"text-align: right;\">\n",
       "      <th></th>\n",
       "      <th>user</th>\n",
       "      <th>first_open</th>\n",
       "      <th>dayofweek</th>\n",
       "      <th>hour</th>\n",
       "      <th>age</th>\n",
       "      <th>screen_list</th>\n",
       "      <th>numscreens</th>\n",
       "      <th>minigame</th>\n",
       "      <th>used_premium_feature</th>\n",
       "      <th>enrolled</th>\n",
       "      <th>...</th>\n",
       "      <th>verifyhousing</th>\n",
       "      <th>verifyhousingamount</th>\n",
       "      <th>verifyincometype</th>\n",
       "      <th>verifymobile</th>\n",
       "      <th>verifyphone</th>\n",
       "      <th>verifyssn</th>\n",
       "      <th>verifytoken</th>\n",
       "      <th>webview</th>\n",
       "      <th>welcomebankverification</th>\n",
       "      <th>yournetwork</th>\n",
       "    </tr>\n",
       "  </thead>\n",
       "  <tbody>\n",
       "    <tr>\n",
       "      <th>0</th>\n",
       "      <td>235136</td>\n",
       "      <td>2012-12-27 02:14:51</td>\n",
       "      <td>3</td>\n",
       "      <td>2</td>\n",
       "      <td>23</td>\n",
       "      <td>idscreen,joinscreen,Cycle,product_review,ScanP...</td>\n",
       "      <td>15</td>\n",
       "      <td>0</td>\n",
       "      <td>0</td>\n",
       "      <td>0</td>\n",
       "      <td>...</td>\n",
       "      <td>0</td>\n",
       "      <td>0</td>\n",
       "      <td>0</td>\n",
       "      <td>0</td>\n",
       "      <td>1</td>\n",
       "      <td>0</td>\n",
       "      <td>1</td>\n",
       "      <td>0</td>\n",
       "      <td>0</td>\n",
       "      <td>0</td>\n",
       "    </tr>\n",
       "    <tr>\n",
       "      <th>1</th>\n",
       "      <td>333588</td>\n",
       "      <td>2012-12-02 01:16:00</td>\n",
       "      <td>6</td>\n",
       "      <td>1</td>\n",
       "      <td>24</td>\n",
       "      <td>joinscreen,product_review,product_review2,Scan...</td>\n",
       "      <td>13</td>\n",
       "      <td>0</td>\n",
       "      <td>0</td>\n",
       "      <td>0</td>\n",
       "      <td>...</td>\n",
       "      <td>0</td>\n",
       "      <td>0</td>\n",
       "      <td>0</td>\n",
       "      <td>0</td>\n",
       "      <td>1</td>\n",
       "      <td>0</td>\n",
       "      <td>1</td>\n",
       "      <td>0</td>\n",
       "      <td>0</td>\n",
       "      <td>0</td>\n",
       "    </tr>\n",
       "    <tr>\n",
       "      <th>2</th>\n",
       "      <td>254414</td>\n",
       "      <td>2013-03-19 19:19:09</td>\n",
       "      <td>1</td>\n",
       "      <td>19</td>\n",
       "      <td>23</td>\n",
       "      <td>Splash,Cycle,Loan</td>\n",
       "      <td>3</td>\n",
       "      <td>0</td>\n",
       "      <td>1</td>\n",
       "      <td>0</td>\n",
       "      <td>...</td>\n",
       "      <td>0</td>\n",
       "      <td>0</td>\n",
       "      <td>0</td>\n",
       "      <td>0</td>\n",
       "      <td>0</td>\n",
       "      <td>0</td>\n",
       "      <td>0</td>\n",
       "      <td>0</td>\n",
       "      <td>0</td>\n",
       "      <td>0</td>\n",
       "    </tr>\n",
       "    <tr>\n",
       "      <th>3</th>\n",
       "      <td>234192</td>\n",
       "      <td>2013-07-05 16:08:46</td>\n",
       "      <td>4</td>\n",
       "      <td>16</td>\n",
       "      <td>28</td>\n",
       "      <td>product_review,Home,product_review,Loan3,Finan...</td>\n",
       "      <td>40</td>\n",
       "      <td>0</td>\n",
       "      <td>0</td>\n",
       "      <td>1</td>\n",
       "      <td>...</td>\n",
       "      <td>0</td>\n",
       "      <td>0</td>\n",
       "      <td>0</td>\n",
       "      <td>0</td>\n",
       "      <td>1</td>\n",
       "      <td>1</td>\n",
       "      <td>0</td>\n",
       "      <td>0</td>\n",
       "      <td>0</td>\n",
       "      <td>0</td>\n",
       "    </tr>\n",
       "    <tr>\n",
       "      <th>4</th>\n",
       "      <td>51549</td>\n",
       "      <td>2013-02-26 18:50:48</td>\n",
       "      <td>1</td>\n",
       "      <td>18</td>\n",
       "      <td>31</td>\n",
       "      <td>idscreen,joinscreen,Cycle,Credit3Container,Sca...</td>\n",
       "      <td>32</td>\n",
       "      <td>0</td>\n",
       "      <td>0</td>\n",
       "      <td>1</td>\n",
       "      <td>...</td>\n",
       "      <td>0</td>\n",
       "      <td>0</td>\n",
       "      <td>0</td>\n",
       "      <td>0</td>\n",
       "      <td>1</td>\n",
       "      <td>1</td>\n",
       "      <td>1</td>\n",
       "      <td>0</td>\n",
       "      <td>0</td>\n",
       "      <td>0</td>\n",
       "    </tr>\n",
       "    <tr>\n",
       "      <th>...</th>\n",
       "      <td>...</td>\n",
       "      <td>...</td>\n",
       "      <td>...</td>\n",
       "      <td>...</td>\n",
       "      <td>...</td>\n",
       "      <td>...</td>\n",
       "      <td>...</td>\n",
       "      <td>...</td>\n",
       "      <td>...</td>\n",
       "      <td>...</td>\n",
       "      <td>...</td>\n",
       "      <td>...</td>\n",
       "      <td>...</td>\n",
       "      <td>...</td>\n",
       "      <td>...</td>\n",
       "      <td>...</td>\n",
       "      <td>...</td>\n",
       "      <td>...</td>\n",
       "      <td>...</td>\n",
       "      <td>...</td>\n",
       "      <td>...</td>\n",
       "    </tr>\n",
       "    <tr>\n",
       "      <th>49995</th>\n",
       "      <td>222774</td>\n",
       "      <td>2013-05-09 13:46:17</td>\n",
       "      <td>3</td>\n",
       "      <td>13</td>\n",
       "      <td>32</td>\n",
       "      <td>Splash,Home,ScanPreview,VerifyPhone,VerifySSN,...</td>\n",
       "      <td>13</td>\n",
       "      <td>0</td>\n",
       "      <td>0</td>\n",
       "      <td>1</td>\n",
       "      <td>...</td>\n",
       "      <td>0</td>\n",
       "      <td>0</td>\n",
       "      <td>0</td>\n",
       "      <td>0</td>\n",
       "      <td>1</td>\n",
       "      <td>1</td>\n",
       "      <td>0</td>\n",
       "      <td>0</td>\n",
       "      <td>0</td>\n",
       "      <td>0</td>\n",
       "    </tr>\n",
       "    <tr>\n",
       "      <th>49996</th>\n",
       "      <td>169179</td>\n",
       "      <td>2013-04-09 00:05:17</td>\n",
       "      <td>1</td>\n",
       "      <td>0</td>\n",
       "      <td>35</td>\n",
       "      <td>Cycle,Splash,Home,RewardsContainer</td>\n",
       "      <td>4</td>\n",
       "      <td>0</td>\n",
       "      <td>1</td>\n",
       "      <td>0</td>\n",
       "      <td>...</td>\n",
       "      <td>0</td>\n",
       "      <td>0</td>\n",
       "      <td>0</td>\n",
       "      <td>0</td>\n",
       "      <td>0</td>\n",
       "      <td>0</td>\n",
       "      <td>0</td>\n",
       "      <td>0</td>\n",
       "      <td>0</td>\n",
       "      <td>0</td>\n",
       "    </tr>\n",
       "    <tr>\n",
       "      <th>49997</th>\n",
       "      <td>302367</td>\n",
       "      <td>2013-02-20 22:41:51</td>\n",
       "      <td>2</td>\n",
       "      <td>22</td>\n",
       "      <td>39</td>\n",
       "      <td>joinscreen,product_review,product_review2,Scan...</td>\n",
       "      <td>25</td>\n",
       "      <td>0</td>\n",
       "      <td>0</td>\n",
       "      <td>0</td>\n",
       "      <td>...</td>\n",
       "      <td>0</td>\n",
       "      <td>0</td>\n",
       "      <td>0</td>\n",
       "      <td>0</td>\n",
       "      <td>1</td>\n",
       "      <td>0</td>\n",
       "      <td>1</td>\n",
       "      <td>0</td>\n",
       "      <td>0</td>\n",
       "      <td>0</td>\n",
       "    </tr>\n",
       "    <tr>\n",
       "      <th>49998</th>\n",
       "      <td>324905</td>\n",
       "      <td>2013-04-28 12:33:04</td>\n",
       "      <td>6</td>\n",
       "      <td>12</td>\n",
       "      <td>27</td>\n",
       "      <td>Cycle,Home,product_review,product_review,produ...</td>\n",
       "      <td>26</td>\n",
       "      <td>0</td>\n",
       "      <td>0</td>\n",
       "      <td>1</td>\n",
       "      <td>...</td>\n",
       "      <td>0</td>\n",
       "      <td>0</td>\n",
       "      <td>0</td>\n",
       "      <td>0</td>\n",
       "      <td>1</td>\n",
       "      <td>1</td>\n",
       "      <td>1</td>\n",
       "      <td>0</td>\n",
       "      <td>0</td>\n",
       "      <td>0</td>\n",
       "    </tr>\n",
       "    <tr>\n",
       "      <th>49999</th>\n",
       "      <td>27047</td>\n",
       "      <td>2012-12-14 01:22:44</td>\n",
       "      <td>4</td>\n",
       "      <td>1</td>\n",
       "      <td>25</td>\n",
       "      <td>product_review,ScanPreview,VerifyDateOfBirth,V...</td>\n",
       "      <td>26</td>\n",
       "      <td>0</td>\n",
       "      <td>0</td>\n",
       "      <td>0</td>\n",
       "      <td>...</td>\n",
       "      <td>0</td>\n",
       "      <td>0</td>\n",
       "      <td>0</td>\n",
       "      <td>0</td>\n",
       "      <td>0</td>\n",
       "      <td>0</td>\n",
       "      <td>0</td>\n",
       "      <td>0</td>\n",
       "      <td>0</td>\n",
       "      <td>0</td>\n",
       "    </tr>\n",
       "  </tbody>\n",
       "</table>\n",
       "<p>50000 rows × 150 columns</p>\n",
       "</div>"
      ],
      "text/plain": [
       "         user           first_open  dayofweek  hour  age  \\\n",
       "0      235136  2012-12-27 02:14:51          3     2   23   \n",
       "1      333588  2012-12-02 01:16:00          6     1   24   \n",
       "2      254414  2013-03-19 19:19:09          1    19   23   \n",
       "3      234192  2013-07-05 16:08:46          4    16   28   \n",
       "4       51549  2013-02-26 18:50:48          1    18   31   \n",
       "...       ...                  ...        ...   ...  ...   \n",
       "49995  222774  2013-05-09 13:46:17          3    13   32   \n",
       "49996  169179  2013-04-09 00:05:17          1     0   35   \n",
       "49997  302367  2013-02-20 22:41:51          2    22   39   \n",
       "49998  324905  2013-04-28 12:33:04          6    12   27   \n",
       "49999   27047  2012-12-14 01:22:44          4     1   25   \n",
       "\n",
       "                                             screen_list  numscreens  \\\n",
       "0      idscreen,joinscreen,Cycle,product_review,ScanP...          15   \n",
       "1      joinscreen,product_review,product_review2,Scan...          13   \n",
       "2                                      Splash,Cycle,Loan           3   \n",
       "3      product_review,Home,product_review,Loan3,Finan...          40   \n",
       "4      idscreen,joinscreen,Cycle,Credit3Container,Sca...          32   \n",
       "...                                                  ...         ...   \n",
       "49995  Splash,Home,ScanPreview,VerifyPhone,VerifySSN,...          13   \n",
       "49996                 Cycle,Splash,Home,RewardsContainer           4   \n",
       "49997  joinscreen,product_review,product_review2,Scan...          25   \n",
       "49998  Cycle,Home,product_review,product_review,produ...          26   \n",
       "49999  product_review,ScanPreview,VerifyDateOfBirth,V...          26   \n",
       "\n",
       "       minigame  used_premium_feature  enrolled  ... verifyhousing  \\\n",
       "0             0                     0         0  ...             0   \n",
       "1             0                     0         0  ...             0   \n",
       "2             0                     1         0  ...             0   \n",
       "3             0                     0         1  ...             0   \n",
       "4             0                     0         1  ...             0   \n",
       "...         ...                   ...       ...  ...           ...   \n",
       "49995         0                     0         1  ...             0   \n",
       "49996         0                     1         0  ...             0   \n",
       "49997         0                     0         0  ...             0   \n",
       "49998         0                     0         1  ...             0   \n",
       "49999         0                     0         0  ...             0   \n",
       "\n",
       "       verifyhousingamount  verifyincometype  verifymobile  verifyphone  \\\n",
       "0                        0                 0             0            1   \n",
       "1                        0                 0             0            1   \n",
       "2                        0                 0             0            0   \n",
       "3                        0                 0             0            1   \n",
       "4                        0                 0             0            1   \n",
       "...                    ...               ...           ...          ...   \n",
       "49995                    0                 0             0            1   \n",
       "49996                    0                 0             0            0   \n",
       "49997                    0                 0             0            1   \n",
       "49998                    0                 0             0            1   \n",
       "49999                    0                 0             0            0   \n",
       "\n",
       "       verifyssn  verifytoken  webview  welcomebankverification  yournetwork  \n",
       "0              0            1        0                        0            0  \n",
       "1              0            1        0                        0            0  \n",
       "2              0            0        0                        0            0  \n",
       "3              1            0        0                        0            0  \n",
       "4              1            1        0                        0            0  \n",
       "...          ...          ...      ...                      ...          ...  \n",
       "49995          1            0        0                        0            0  \n",
       "49996          0            0        0                        0            0  \n",
       "49997          0            1        0                        0            0  \n",
       "49998          1            1        0                        0            0  \n",
       "49999          0            0        0                        0            0  \n",
       "\n",
       "[50000 rows x 150 columns]"
      ]
     },
     "execution_count": 2,
     "metadata": {},
     "output_type": "execute_result"
    }
   ],
   "source": [
    "data = pd.read_csv('clean-data.csv')\n",
    "data"
   ]
  },
  {
   "cell_type": "code",
   "execution_count": 3,
   "metadata": {},
   "outputs": [],
   "source": [
    "# Drop Unused Feature\n",
    "features = data.drop(['user', 'dayofweek', 'first_open', 'screen_list', 'enrolled_date', 'liked', 'fo_to_enrolled', 'enrolled'],axis=1)"
   ]
  },
  {
   "cell_type": "code",
   "execution_count": 4,
   "metadata": {},
   "outputs": [
    {
     "data": {
      "text/html": [
       "<div>\n",
       "<style scoped>\n",
       "    .dataframe tbody tr th:only-of-type {\n",
       "        vertical-align: middle;\n",
       "    }\n",
       "\n",
       "    .dataframe tbody tr th {\n",
       "        vertical-align: top;\n",
       "    }\n",
       "\n",
       "    .dataframe thead th {\n",
       "        text-align: right;\n",
       "    }\n",
       "</style>\n",
       "<table border=\"1\" class=\"dataframe\">\n",
       "  <thead>\n",
       "    <tr style=\"text-align: right;\">\n",
       "      <th></th>\n",
       "      <th>hour</th>\n",
       "      <th>age</th>\n",
       "      <th>numscreens</th>\n",
       "      <th>minigame</th>\n",
       "      <th>used_premium_feature</th>\n",
       "      <th>about</th>\n",
       "      <th>accountview</th>\n",
       "      <th>addproperty</th>\n",
       "      <th>addvehicle</th>\n",
       "      <th>adverseactions</th>\n",
       "      <th>...</th>\n",
       "      <th>verifyhousingamount</th>\n",
       "      <th>verifyincometype</th>\n",
       "      <th>verifymobile</th>\n",
       "      <th>verifyphone</th>\n",
       "      <th>verifyssn</th>\n",
       "      <th>verifytoken</th>\n",
       "      <th>webview</th>\n",
       "      <th>welcomebankverification</th>\n",
       "      <th>yournetwork</th>\n",
       "      <th>enrolled</th>\n",
       "    </tr>\n",
       "  </thead>\n",
       "  <tbody>\n",
       "    <tr>\n",
       "      <th>0</th>\n",
       "      <td>2</td>\n",
       "      <td>23</td>\n",
       "      <td>15</td>\n",
       "      <td>0</td>\n",
       "      <td>0</td>\n",
       "      <td>0</td>\n",
       "      <td>0</td>\n",
       "      <td>0</td>\n",
       "      <td>0</td>\n",
       "      <td>0</td>\n",
       "      <td>...</td>\n",
       "      <td>0</td>\n",
       "      <td>0</td>\n",
       "      <td>0</td>\n",
       "      <td>1</td>\n",
       "      <td>0</td>\n",
       "      <td>1</td>\n",
       "      <td>0</td>\n",
       "      <td>0</td>\n",
       "      <td>0</td>\n",
       "      <td>0</td>\n",
       "    </tr>\n",
       "    <tr>\n",
       "      <th>1</th>\n",
       "      <td>1</td>\n",
       "      <td>24</td>\n",
       "      <td>13</td>\n",
       "      <td>0</td>\n",
       "      <td>0</td>\n",
       "      <td>0</td>\n",
       "      <td>0</td>\n",
       "      <td>0</td>\n",
       "      <td>0</td>\n",
       "      <td>0</td>\n",
       "      <td>...</td>\n",
       "      <td>0</td>\n",
       "      <td>0</td>\n",
       "      <td>0</td>\n",
       "      <td>1</td>\n",
       "      <td>0</td>\n",
       "      <td>1</td>\n",
       "      <td>0</td>\n",
       "      <td>0</td>\n",
       "      <td>0</td>\n",
       "      <td>0</td>\n",
       "    </tr>\n",
       "    <tr>\n",
       "      <th>2</th>\n",
       "      <td>19</td>\n",
       "      <td>23</td>\n",
       "      <td>3</td>\n",
       "      <td>0</td>\n",
       "      <td>1</td>\n",
       "      <td>0</td>\n",
       "      <td>0</td>\n",
       "      <td>0</td>\n",
       "      <td>0</td>\n",
       "      <td>0</td>\n",
       "      <td>...</td>\n",
       "      <td>0</td>\n",
       "      <td>0</td>\n",
       "      <td>0</td>\n",
       "      <td>0</td>\n",
       "      <td>0</td>\n",
       "      <td>0</td>\n",
       "      <td>0</td>\n",
       "      <td>0</td>\n",
       "      <td>0</td>\n",
       "      <td>0</td>\n",
       "    </tr>\n",
       "    <tr>\n",
       "      <th>3</th>\n",
       "      <td>16</td>\n",
       "      <td>28</td>\n",
       "      <td>40</td>\n",
       "      <td>0</td>\n",
       "      <td>0</td>\n",
       "      <td>0</td>\n",
       "      <td>0</td>\n",
       "      <td>0</td>\n",
       "      <td>0</td>\n",
       "      <td>0</td>\n",
       "      <td>...</td>\n",
       "      <td>0</td>\n",
       "      <td>0</td>\n",
       "      <td>0</td>\n",
       "      <td>1</td>\n",
       "      <td>1</td>\n",
       "      <td>0</td>\n",
       "      <td>0</td>\n",
       "      <td>0</td>\n",
       "      <td>0</td>\n",
       "      <td>1</td>\n",
       "    </tr>\n",
       "    <tr>\n",
       "      <th>4</th>\n",
       "      <td>18</td>\n",
       "      <td>31</td>\n",
       "      <td>32</td>\n",
       "      <td>0</td>\n",
       "      <td>0</td>\n",
       "      <td>0</td>\n",
       "      <td>0</td>\n",
       "      <td>0</td>\n",
       "      <td>0</td>\n",
       "      <td>0</td>\n",
       "      <td>...</td>\n",
       "      <td>0</td>\n",
       "      <td>0</td>\n",
       "      <td>0</td>\n",
       "      <td>1</td>\n",
       "      <td>1</td>\n",
       "      <td>1</td>\n",
       "      <td>0</td>\n",
       "      <td>0</td>\n",
       "      <td>0</td>\n",
       "      <td>1</td>\n",
       "    </tr>\n",
       "    <tr>\n",
       "      <th>...</th>\n",
       "      <td>...</td>\n",
       "      <td>...</td>\n",
       "      <td>...</td>\n",
       "      <td>...</td>\n",
       "      <td>...</td>\n",
       "      <td>...</td>\n",
       "      <td>...</td>\n",
       "      <td>...</td>\n",
       "      <td>...</td>\n",
       "      <td>...</td>\n",
       "      <td>...</td>\n",
       "      <td>...</td>\n",
       "      <td>...</td>\n",
       "      <td>...</td>\n",
       "      <td>...</td>\n",
       "      <td>...</td>\n",
       "      <td>...</td>\n",
       "      <td>...</td>\n",
       "      <td>...</td>\n",
       "      <td>...</td>\n",
       "      <td>...</td>\n",
       "    </tr>\n",
       "    <tr>\n",
       "      <th>49995</th>\n",
       "      <td>13</td>\n",
       "      <td>32</td>\n",
       "      <td>13</td>\n",
       "      <td>0</td>\n",
       "      <td>0</td>\n",
       "      <td>0</td>\n",
       "      <td>0</td>\n",
       "      <td>0</td>\n",
       "      <td>0</td>\n",
       "      <td>0</td>\n",
       "      <td>...</td>\n",
       "      <td>0</td>\n",
       "      <td>0</td>\n",
       "      <td>0</td>\n",
       "      <td>1</td>\n",
       "      <td>1</td>\n",
       "      <td>0</td>\n",
       "      <td>0</td>\n",
       "      <td>0</td>\n",
       "      <td>0</td>\n",
       "      <td>1</td>\n",
       "    </tr>\n",
       "    <tr>\n",
       "      <th>49996</th>\n",
       "      <td>0</td>\n",
       "      <td>35</td>\n",
       "      <td>4</td>\n",
       "      <td>0</td>\n",
       "      <td>1</td>\n",
       "      <td>0</td>\n",
       "      <td>0</td>\n",
       "      <td>0</td>\n",
       "      <td>0</td>\n",
       "      <td>0</td>\n",
       "      <td>...</td>\n",
       "      <td>0</td>\n",
       "      <td>0</td>\n",
       "      <td>0</td>\n",
       "      <td>0</td>\n",
       "      <td>0</td>\n",
       "      <td>0</td>\n",
       "      <td>0</td>\n",
       "      <td>0</td>\n",
       "      <td>0</td>\n",
       "      <td>0</td>\n",
       "    </tr>\n",
       "    <tr>\n",
       "      <th>49997</th>\n",
       "      <td>22</td>\n",
       "      <td>39</td>\n",
       "      <td>25</td>\n",
       "      <td>0</td>\n",
       "      <td>0</td>\n",
       "      <td>0</td>\n",
       "      <td>0</td>\n",
       "      <td>0</td>\n",
       "      <td>0</td>\n",
       "      <td>0</td>\n",
       "      <td>...</td>\n",
       "      <td>0</td>\n",
       "      <td>0</td>\n",
       "      <td>0</td>\n",
       "      <td>1</td>\n",
       "      <td>0</td>\n",
       "      <td>1</td>\n",
       "      <td>0</td>\n",
       "      <td>0</td>\n",
       "      <td>0</td>\n",
       "      <td>0</td>\n",
       "    </tr>\n",
       "    <tr>\n",
       "      <th>49998</th>\n",
       "      <td>12</td>\n",
       "      <td>27</td>\n",
       "      <td>26</td>\n",
       "      <td>0</td>\n",
       "      <td>0</td>\n",
       "      <td>0</td>\n",
       "      <td>0</td>\n",
       "      <td>0</td>\n",
       "      <td>0</td>\n",
       "      <td>0</td>\n",
       "      <td>...</td>\n",
       "      <td>0</td>\n",
       "      <td>0</td>\n",
       "      <td>0</td>\n",
       "      <td>1</td>\n",
       "      <td>1</td>\n",
       "      <td>1</td>\n",
       "      <td>0</td>\n",
       "      <td>0</td>\n",
       "      <td>0</td>\n",
       "      <td>1</td>\n",
       "    </tr>\n",
       "    <tr>\n",
       "      <th>49999</th>\n",
       "      <td>1</td>\n",
       "      <td>25</td>\n",
       "      <td>26</td>\n",
       "      <td>0</td>\n",
       "      <td>0</td>\n",
       "      <td>0</td>\n",
       "      <td>0</td>\n",
       "      <td>0</td>\n",
       "      <td>0</td>\n",
       "      <td>0</td>\n",
       "      <td>...</td>\n",
       "      <td>0</td>\n",
       "      <td>0</td>\n",
       "      <td>0</td>\n",
       "      <td>0</td>\n",
       "      <td>0</td>\n",
       "      <td>0</td>\n",
       "      <td>0</td>\n",
       "      <td>0</td>\n",
       "      <td>0</td>\n",
       "      <td>0</td>\n",
       "    </tr>\n",
       "  </tbody>\n",
       "</table>\n",
       "<p>50000 rows × 143 columns</p>\n",
       "</div>"
      ],
      "text/plain": [
       "       hour  age  numscreens  minigame  used_premium_feature  about  \\\n",
       "0         2   23          15         0                     0      0   \n",
       "1         1   24          13         0                     0      0   \n",
       "2        19   23           3         0                     1      0   \n",
       "3        16   28          40         0                     0      0   \n",
       "4        18   31          32         0                     0      0   \n",
       "...     ...  ...         ...       ...                   ...    ...   \n",
       "49995    13   32          13         0                     0      0   \n",
       "49996     0   35           4         0                     1      0   \n",
       "49997    22   39          25         0                     0      0   \n",
       "49998    12   27          26         0                     0      0   \n",
       "49999     1   25          26         0                     0      0   \n",
       "\n",
       "       accountview  addproperty  addvehicle  adverseactions  ...  \\\n",
       "0                0            0           0               0  ...   \n",
       "1                0            0           0               0  ...   \n",
       "2                0            0           0               0  ...   \n",
       "3                0            0           0               0  ...   \n",
       "4                0            0           0               0  ...   \n",
       "...            ...          ...         ...             ...  ...   \n",
       "49995            0            0           0               0  ...   \n",
       "49996            0            0           0               0  ...   \n",
       "49997            0            0           0               0  ...   \n",
       "49998            0            0           0               0  ...   \n",
       "49999            0            0           0               0  ...   \n",
       "\n",
       "       verifyhousingamount  verifyincometype  verifymobile  verifyphone  \\\n",
       "0                        0                 0             0            1   \n",
       "1                        0                 0             0            1   \n",
       "2                        0                 0             0            0   \n",
       "3                        0                 0             0            1   \n",
       "4                        0                 0             0            1   \n",
       "...                    ...               ...           ...          ...   \n",
       "49995                    0                 0             0            1   \n",
       "49996                    0                 0             0            0   \n",
       "49997                    0                 0             0            1   \n",
       "49998                    0                 0             0            1   \n",
       "49999                    0                 0             0            0   \n",
       "\n",
       "       verifyssn  verifytoken  webview  welcomebankverification  yournetwork  \\\n",
       "0              0            1        0                        0            0   \n",
       "1              0            1        0                        0            0   \n",
       "2              0            0        0                        0            0   \n",
       "3              1            0        0                        0            0   \n",
       "4              1            1        0                        0            0   \n",
       "...          ...          ...      ...                      ...          ...   \n",
       "49995          1            0        0                        0            0   \n",
       "49996          0            0        0                        0            0   \n",
       "49997          0            1        0                        0            0   \n",
       "49998          1            1        0                        0            0   \n",
       "49999          0            0        0                        0            0   \n",
       "\n",
       "       enrolled  \n",
       "0             0  \n",
       "1             0  \n",
       "2             0  \n",
       "3             1  \n",
       "4             1  \n",
       "...         ...  \n",
       "49995         1  \n",
       "49996         0  \n",
       "49997         0  \n",
       "49998         1  \n",
       "49999         0  \n",
       "\n",
       "[50000 rows x 143 columns]"
      ]
     },
     "execution_count": 4,
     "metadata": {},
     "output_type": "execute_result"
    }
   ],
   "source": [
    "features = pd.concat([features,data['enrolled']],axis=1)\n",
    "features"
   ]
  },
  {
   "cell_type": "code",
   "execution_count": 5,
   "metadata": {},
   "outputs": [
    {
     "name": "stdout",
     "output_type": "stream",
     "text": [
      "['hour', 'age', 'numscreens', 'minigame', 'used_premium_feature', 'about', 'accountview', 'addproperty', 'addvehicle', 'adverseactions', 'alerts', 'bankverification', 'boostfriendslist', 'bvplaidlinkcontainer', 'bvstats', 'camerascreen', 'cc1', 'cc1category', 'cc3', 'communityandinvites', 'contactinfoconfirm', 'credit1', 'credit2', 'credit3', 'credit3alerts', 'credit3container', 'credit3cta', 'credit3dashboard', 'credits', 'cycle', 'editprofile', 'employmentinfo', 'employmentsummary', 'finances', 'findfriendscycle', 'forgotpassword', 'groupedinstitutions', 'history', 'home', 'idandselfiecamerascreen', 'identityverification', 'idscreen', 'instantloanssn', 'instantoffercreateaccount', 'institutions', 'joinscreen', 'landingscreen', 'leaderboard', 'listpicker', 'llloanamount', 'loan', 'loan1', 'loan2', 'loan3', 'loan4', 'loanappagreement', 'loanappbankinfo', 'loanappconfirmwithdrawal', 'loanappdenied', 'loanappesign', 'loanapploan4', 'loanapppaymentschedule', 'loanapppromocode', 'loanappreasons', 'loanapprequestamount', 'loanappschedulecall', 'loanappsuccess', 'loanappverifybankinfo', 'loanappwithdrawn', 'location', 'login', 'loginform', 'managefinances', 'mlwebview', 'networkfailure', 'networkuser', 'newcontactlistinvite', 'payoff', 'product_review', 'product_review2', 'product_review3', 'product_review4', 'product_review5', 'profileannualincome', 'profilechildren', 'profilecompanyname', 'profileeducation', 'profileeducationmajor', 'profileemploymentlength', 'profilejobtitle', 'profilemaritalstatus', 'profilepage', 'profileproduct_review', 'profileverifyincometype', 'profileverifyssn', 'providerlist', 'referralcontainer', 'referrals', 'referralscreen', 'resendtoken', 'reviewcreditcard', 'rewarddetail', 'rewardjoinscreen', 'rewards', 'rewardscontainer', 'saving1', 'saving10', 'saving2', 'saving2amount', 'saving4', 'saving5', 'saving6', 'saving7', 'saving8', 'saving9', 'savinggoaledit', 'savinggoalincomesalary', 'savinggoalother', 'savinggoalpreview', 'scanpreview', 'securitymodal', 'selectinstitution', 'settings', 'signup', 'signupemail', 'signupname', 'splash', 'transactionlist', 'verifyannualincome', 'verifybankinfo', 'verifycountry', 'verifydateofbirth', 'verifyhousing', 'verifyhousingamount', 'verifyincometype', 'verifymobile', 'verifyphone', 'verifyssn', 'verifytoken', 'webview', 'welcomebankverification', 'yournetwork', 'enrolled']\n"
     ]
    }
   ],
   "source": [
    "print(list(features.columns))"
   ]
  },
  {
   "cell_type": "code",
   "execution_count": 6,
   "metadata": {},
   "outputs": [
    {
     "data": {
      "image/png": "[encoded data removed]",
      "text/plain": [
       "<Figure size 432x288 with 1 Axes>"
      ]
     },
     "metadata": {},
     "output_type": "display_data"
    }
   ],
   "source": [
    "sizes_feat = [len(features[features['enrolled']==0]), len(features[features['enrolled']==1])]\n",
    "labels = ['not_enrolled', 'enrolled']\n",
    "\n",
    "plt.title('All data point (enrolled vs not enrolled)')\n",
    "plt.pie(sizes_feat, labels=labels, autopct='%2.2f%%', startangle=90)\n",
    "plt.show()"
   ]
  },
  {
   "cell_type": "markdown",
   "metadata": {},
   "source": [
    "## Train Test Split"
   ]
  },
  {
   "cell_type": "code",
   "execution_count": 7,
   "metadata": {},
   "outputs": [],
   "source": [
    "X = features.drop('enrolled',axis=1)\n",
    "y = features['enrolled']"
   ]
  },
  {
   "cell_type": "code",
   "execution_count": 8,
   "metadata": {},
   "outputs": [],
   "source": [
    "X_train, X_test, y_train, y_test = train_test_split(X, y, test_size=.3, random_state=42)"
   ]
  },
  {
   "cell_type": "code",
   "execution_count": 9,
   "metadata": {},
   "outputs": [
    {
     "data": {
      "text/plain": [
       "1    21859\n",
       "0    13141\n",
       "Name: enrolled, dtype: int64"
      ]
     },
     "execution_count": 9,
     "metadata": {},
     "output_type": "execute_result"
    }
   ],
   "source": [
    "y_train.value_counts()"
   ]
  },
  {
   "cell_type": "code",
   "execution_count": 10,
   "metadata": {},
   "outputs": [
    {
     "data": {
      "image/png": "[encoded data removed]",
      "text/plain": [
       "<Figure size 432x288 with 1 Axes>"
      ]
     },
     "metadata": {},
     "output_type": "display_data"
    }
   ],
   "source": [
    "sizes = [len(y_train[y_train==0]), len(y_train[y_train==1])]\n",
    "labels = ['not_enroled', 'enrolled']\n",
    "\n",
    "\n",
    "plt.title('Train Data')\n",
    "plt.pie(sizes, labels=labels, autopct='%2.2f%%', startangle=90)\n",
    "\n",
    "plt.show()"
   ]
  },
  {
   "cell_type": "markdown",
   "metadata": {},
   "source": [
    "## Modelling"
   ]
  },
  {
   "cell_type": "markdown",
   "metadata": {},
   "source": [
    "1. Logistic Regression\n",
    "2. Decision Tree Classifier\n",
    "3. Random Forest Classifier\n",
    "4. Gradient Boosting Clasifier"
   ]
  },
  {
   "cell_type": "markdown",
   "metadata": {},
   "source": [
    "### Logistic Regression"
   ]
  },
  {
   "cell_type": "code",
   "execution_count": 11,
   "metadata": {},
   "outputs": [
    {
     "name": "stderr",
     "output_type": "stream",
     "text": [
      "C:\\Users\\Admin\\Anaconda3\\lib\\site-packages\\sklearn\\linear_model\\_logistic.py:940: ConvergenceWarning: lbfgs failed to converge (status=1):\n",
      "STOP: TOTAL NO. of ITERATIONS REACHED LIMIT.\n",
      "\n",
      "Increase the number of iterations (max_iter) or scale the data as shown in:\n",
      "    https://scikit-learn.org/stable/modules/preprocessing.html\n",
      "Please also refer to the documentation for alternative solver options:\n",
      "    https://scikit-learn.org/stable/modules/linear_model.html#logistic-regression\n",
      "  extra_warning_msg=_LOGISTIC_SOLVER_CONVERGENCE_MSG)\n"
     ]
    },
    {
     "data": {
      "text/plain": [
       "LogisticRegression(C=1.0, class_weight=None, dual=False, fit_intercept=True,\n",
       "                   intercept_scaling=1, l1_ratio=None, max_iter=100,\n",
       "                   multi_class='auto', n_jobs=None, penalty='l2',\n",
       "                   random_state=None, solver='lbfgs', tol=0.0001, verbose=0,\n",
       "                   warm_start=False)"
      ]
     },
     "execution_count": 11,
     "metadata": {},
     "output_type": "execute_result"
    }
   ],
   "source": [
    "logreg = LogisticRegression()\n",
    "logreg.fit(X_train,y_train)"
   ]
  },
  {
   "cell_type": "code",
   "execution_count": 12,
   "metadata": {},
   "outputs": [],
   "source": [
    "pred_logreg = logreg.predict(X_test)\n",
    "proba_logreg = logreg.predict_proba(X_test)"
   ]
  },
  {
   "cell_type": "code",
   "execution_count": 13,
   "metadata": {},
   "outputs": [
    {
     "name": "stdout",
     "output_type": "stream",
     "text": [
      "[[5084  701]\n",
      " [1624 7591]]\n"
     ]
    }
   ],
   "source": [
    "print(confusion_matrix(y_test, pred_logreg))"
   ]
  },
  {
   "cell_type": "code",
   "execution_count": 14,
   "metadata": {},
   "outputs": [
    {
     "name": "stdout",
     "output_type": "stream",
     "text": [
      "              precision    recall  f1-score   support\n",
      "\n",
      "           0       0.76      0.88      0.81      5785\n",
      "           1       0.92      0.82      0.87      9215\n",
      "\n",
      "    accuracy                           0.84     15000\n",
      "   macro avg       0.84      0.85      0.84     15000\n",
      "weighted avg       0.85      0.84      0.85     15000\n",
      "\n"
     ]
    }
   ],
   "source": [
    "print(classification_report(y_test, pred_logreg))"
   ]
  },
  {
   "cell_type": "code",
   "execution_count": 15,
   "metadata": {},
   "outputs": [
    {
     "data": {
      "text/html": [
       "<div>\n",
       "<style scoped>\n",
       "    .dataframe tbody tr th:only-of-type {\n",
       "        vertical-align: middle;\n",
       "    }\n",
       "\n",
       "    .dataframe tbody tr th {\n",
       "        vertical-align: top;\n",
       "    }\n",
       "\n",
       "    .dataframe thead th {\n",
       "        text-align: right;\n",
       "    }\n",
       "</style>\n",
       "<table border=\"1\" class=\"dataframe\">\n",
       "  <thead>\n",
       "    <tr style=\"text-align: right;\">\n",
       "      <th></th>\n",
       "      <th>precision</th>\n",
       "      <th>recall</th>\n",
       "      <th>f1-score</th>\n",
       "      <th>support</th>\n",
       "    </tr>\n",
       "  </thead>\n",
       "  <tbody>\n",
       "    <tr>\n",
       "      <th>0</th>\n",
       "      <td>0.757901</td>\n",
       "      <td>0.878825</td>\n",
       "      <td>0.813896</td>\n",
       "      <td>5785.000</td>\n",
       "    </tr>\n",
       "    <tr>\n",
       "      <th>1</th>\n",
       "      <td>0.915461</td>\n",
       "      <td>0.823766</td>\n",
       "      <td>0.867196</td>\n",
       "      <td>9215.000</td>\n",
       "    </tr>\n",
       "    <tr>\n",
       "      <th>accuracy</th>\n",
       "      <td>0.845000</td>\n",
       "      <td>0.845000</td>\n",
       "      <td>0.845000</td>\n",
       "      <td>0.845</td>\n",
       "    </tr>\n",
       "    <tr>\n",
       "      <th>macro avg</th>\n",
       "      <td>0.836681</td>\n",
       "      <td>0.851295</td>\n",
       "      <td>0.840546</td>\n",
       "      <td>15000.000</td>\n",
       "    </tr>\n",
       "    <tr>\n",
       "      <th>weighted avg</th>\n",
       "      <td>0.854695</td>\n",
       "      <td>0.845000</td>\n",
       "      <td>0.846640</td>\n",
       "      <td>15000.000</td>\n",
       "    </tr>\n",
       "  </tbody>\n",
       "</table>\n",
       "</div>"
      ],
      "text/plain": [
       "              precision    recall  f1-score    support\n",
       "0              0.757901  0.878825  0.813896   5785.000\n",
       "1              0.915461  0.823766  0.867196   9215.000\n",
       "accuracy       0.845000  0.845000  0.845000      0.845\n",
       "macro avg      0.836681  0.851295  0.840546  15000.000\n",
       "weighted avg   0.854695  0.845000  0.846640  15000.000"
      ]
     },
     "execution_count": 15,
     "metadata": {},
     "output_type": "execute_result"
    }
   ],
   "source": [
    "cr_logreg = classification_report(y_test,pred_logreg,output_dict=True)\n",
    "cr_logreg = pd.DataFrame(cr_logreg).T\n",
    "cr_logreg"
   ]
  },
  {
   "cell_type": "markdown",
   "metadata": {},
   "source": [
    "### Decision Tree Classifier"
   ]
  },
  {
   "cell_type": "code",
   "execution_count": 16,
   "metadata": {},
   "outputs": [
    {
     "data": {
      "text/plain": [
       "DecisionTreeClassifier(ccp_alpha=0.0, class_weight=None, criterion='gini',\n",
       "                       max_depth=None, max_features=None, max_leaf_nodes=None,\n",
       "                       min_impurity_decrease=0.0, min_impurity_split=None,\n",
       "                       min_samples_leaf=1, min_samples_split=2,\n",
       "                       min_weight_fraction_leaf=0.0, presort='deprecated',\n",
       "                       random_state=None, splitter='best')"
      ]
     },
     "execution_count": 16,
     "metadata": {},
     "output_type": "execute_result"
    }
   ],
   "source": [
    "dtree = DecisionTreeClassifier()\n",
    "dtree.fit(X_train,y_train)"
   ]
  },
  {
   "cell_type": "code",
   "execution_count": 17,
   "metadata": {},
   "outputs": [],
   "source": [
    "pred_dt = dtree.predict(X_test)\n",
    "proba_dt = dtree.predict_proba(X_test)"
   ]
  },
  {
   "cell_type": "code",
   "execution_count": 18,
   "metadata": {},
   "outputs": [
    {
     "name": "stdout",
     "output_type": "stream",
     "text": [
      "<sklearn.metrics._plot.confusion_matrix.ConfusionMatrixDisplay object at 0x000001E68F1B0B08>\n"
     ]
    },
    {
     "data": {
      "image/png": "[encoded data removed]",
      "text/plain": [
       "<Figure size 432x288 with 2 Axes>"
      ]
     },
     "metadata": {
      "needs_background": "light"
     },
     "output_type": "display_data"
    }
   ],
   "source": [
    "print(plot_confusion_matrix(dtree, X_test, y_test))"
   ]
  },
  {
   "cell_type": "code",
   "execution_count": 19,
   "metadata": {},
   "outputs": [
    {
     "name": "stdout",
     "output_type": "stream",
     "text": [
      "[[4217 1568]\n",
      " [1392 7823]]\n"
     ]
    }
   ],
   "source": [
    "print(confusion_matrix(y_test, pred_dt))"
   ]
  },
  {
   "cell_type": "code",
   "execution_count": 20,
   "metadata": {},
   "outputs": [
    {
     "name": "stdout",
     "output_type": "stream",
     "text": [
      "              precision    recall  f1-score   support\n",
      "\n",
      "           0       0.75      0.73      0.74      5785\n",
      "           1       0.83      0.85      0.84      9215\n",
      "\n",
      "    accuracy                           0.80     15000\n",
      "   macro avg       0.79      0.79      0.79     15000\n",
      "weighted avg       0.80      0.80      0.80     15000\n",
      "\n"
     ]
    }
   ],
   "source": [
    "print(classification_report(y_test, pred_dt))"
   ]
  },
  {
   "cell_type": "code",
   "execution_count": 21,
   "metadata": {},
   "outputs": [
    {
     "data": {
      "text/html": [
       "<div>\n",
       "<style scoped>\n",
       "    .dataframe tbody tr th:only-of-type {\n",
       "        vertical-align: middle;\n",
       "    }\n",
       "\n",
       "    .dataframe tbody tr th {\n",
       "        vertical-align: top;\n",
       "    }\n",
       "\n",
       "    .dataframe thead th {\n",
       "        text-align: right;\n",
       "    }\n",
       "</style>\n",
       "<table border=\"1\" class=\"dataframe\">\n",
       "  <thead>\n",
       "    <tr style=\"text-align: right;\">\n",
       "      <th></th>\n",
       "      <th>precision</th>\n",
       "      <th>recall</th>\n",
       "      <th>f1-score</th>\n",
       "      <th>support</th>\n",
       "    </tr>\n",
       "  </thead>\n",
       "  <tbody>\n",
       "    <tr>\n",
       "      <th>0</th>\n",
       "      <td>0.751827</td>\n",
       "      <td>0.728954</td>\n",
       "      <td>0.740214</td>\n",
       "      <td>5785.000000</td>\n",
       "    </tr>\n",
       "    <tr>\n",
       "      <th>1</th>\n",
       "      <td>0.833032</td>\n",
       "      <td>0.848942</td>\n",
       "      <td>0.840912</td>\n",
       "      <td>9215.000000</td>\n",
       "    </tr>\n",
       "    <tr>\n",
       "      <th>accuracy</th>\n",
       "      <td>0.802667</td>\n",
       "      <td>0.802667</td>\n",
       "      <td>0.802667</td>\n",
       "      <td>0.802667</td>\n",
       "    </tr>\n",
       "    <tr>\n",
       "      <th>macro avg</th>\n",
       "      <td>0.792430</td>\n",
       "      <td>0.788948</td>\n",
       "      <td>0.790563</td>\n",
       "      <td>15000.000000</td>\n",
       "    </tr>\n",
       "    <tr>\n",
       "      <th>weighted avg</th>\n",
       "      <td>0.801714</td>\n",
       "      <td>0.802667</td>\n",
       "      <td>0.802076</td>\n",
       "      <td>15000.000000</td>\n",
       "    </tr>\n",
       "  </tbody>\n",
       "</table>\n",
       "</div>"
      ],
      "text/plain": [
       "              precision    recall  f1-score       support\n",
       "0              0.751827  0.728954  0.740214   5785.000000\n",
       "1              0.833032  0.848942  0.840912   9215.000000\n",
       "accuracy       0.802667  0.802667  0.802667      0.802667\n",
       "macro avg      0.792430  0.788948  0.790563  15000.000000\n",
       "weighted avg   0.801714  0.802667  0.802076  15000.000000"
      ]
     },
     "execution_count": 21,
     "metadata": {},
     "output_type": "execute_result"
    }
   ],
   "source": [
    "cr_dt = classification_report(y_test,pred_dt,output_dict=True)\n",
    "cr_dt = pd.DataFrame(cr_dt).T\n",
    "cr_dt"
   ]
  },
  {
   "cell_type": "markdown",
   "metadata": {},
   "source": [
    "### Random Forest Classifier"
   ]
  },
  {
   "cell_type": "code",
   "execution_count": 22,
   "metadata": {},
   "outputs": [
    {
     "data": {
      "text/plain": [
       "RandomForestClassifier(bootstrap=True, ccp_alpha=0.0, class_weight=None,\n",
       "                       criterion='gini', max_depth=None, max_features='auto',\n",
       "                       max_leaf_nodes=None, max_samples=None,\n",
       "                       min_impurity_decrease=0.0, min_impurity_split=None,\n",
       "                       min_samples_leaf=1, min_samples_split=2,\n",
       "                       min_weight_fraction_leaf=0.0, n_estimators=100,\n",
       "                       n_jobs=None, oob_score=False, random_state=None,\n",
       "                       verbose=0, warm_start=False)"
      ]
     },
     "execution_count": 22,
     "metadata": {},
     "output_type": "execute_result"
    }
   ],
   "source": [
    "rfc = RandomForestClassifier()\n",
    "rfc.fit(X_train,y_train)"
   ]
  },
  {
   "cell_type": "code",
   "execution_count": 23,
   "metadata": {},
   "outputs": [],
   "source": [
    "pred_rfc = rfc.predict(X_test)\n",
    "proba_rfc = rfc.predict_proba(X_test)"
   ]
  },
  {
   "cell_type": "code",
   "execution_count": 24,
   "metadata": {},
   "outputs": [
    {
     "name": "stdout",
     "output_type": "stream",
     "text": [
      "<sklearn.metrics._plot.confusion_matrix.ConfusionMatrixDisplay object at 0x000001E68C5CEEC8>\n"
     ]
    },
    {
     "data": {
      "image/png": "[encoded data removed]",
      "text/plain": [
       "<Figure size 432x288 with 2 Axes>"
      ]
     },
     "metadata": {
      "needs_background": "light"
     },
     "output_type": "display_data"
    }
   ],
   "source": [
    "print(plot_confusion_matrix(rfc, X_test, y_test))"
   ]
  },
  {
   "cell_type": "code",
   "execution_count": 25,
   "metadata": {},
   "outputs": [
    {
     "name": "stdout",
     "output_type": "stream",
     "text": [
      "[[5031  754]\n",
      " [1435 7780]]\n"
     ]
    }
   ],
   "source": [
    "print(confusion_matrix(y_test, pred_rfc))"
   ]
  },
  {
   "cell_type": "code",
   "execution_count": 26,
   "metadata": {},
   "outputs": [
    {
     "name": "stdout",
     "output_type": "stream",
     "text": [
      "              precision    recall  f1-score   support\n",
      "\n",
      "           0       0.78      0.87      0.82      5785\n",
      "           1       0.91      0.84      0.88      9215\n",
      "\n",
      "    accuracy                           0.85     15000\n",
      "   macro avg       0.84      0.86      0.85     15000\n",
      "weighted avg       0.86      0.85      0.86     15000\n",
      "\n"
     ]
    }
   ],
   "source": [
    "print(classification_report(y_test, pred_rfc))"
   ]
  },
  {
   "cell_type": "code",
   "execution_count": 27,
   "metadata": {},
   "outputs": [
    {
     "data": {
      "text/html": [
       "<div>\n",
       "<style scoped>\n",
       "    .dataframe tbody tr th:only-of-type {\n",
       "        vertical-align: middle;\n",
       "    }\n",
       "\n",
       "    .dataframe tbody tr th {\n",
       "        vertical-align: top;\n",
       "    }\n",
       "\n",
       "    .dataframe thead th {\n",
       "        text-align: right;\n",
       "    }\n",
       "</style>\n",
       "<table border=\"1\" class=\"dataframe\">\n",
       "  <thead>\n",
       "    <tr style=\"text-align: right;\">\n",
       "      <th></th>\n",
       "      <th>precision</th>\n",
       "      <th>recall</th>\n",
       "      <th>f1-score</th>\n",
       "      <th>support</th>\n",
       "    </tr>\n",
       "  </thead>\n",
       "  <tbody>\n",
       "    <tr>\n",
       "      <th>0</th>\n",
       "      <td>0.778070</td>\n",
       "      <td>0.869663</td>\n",
       "      <td>0.821321</td>\n",
       "      <td>5785.000000</td>\n",
       "    </tr>\n",
       "    <tr>\n",
       "      <th>1</th>\n",
       "      <td>0.911648</td>\n",
       "      <td>0.844276</td>\n",
       "      <td>0.876669</td>\n",
       "      <td>9215.000000</td>\n",
       "    </tr>\n",
       "    <tr>\n",
       "      <th>accuracy</th>\n",
       "      <td>0.854067</td>\n",
       "      <td>0.854067</td>\n",
       "      <td>0.854067</td>\n",
       "      <td>0.854067</td>\n",
       "    </tr>\n",
       "    <tr>\n",
       "      <th>macro avg</th>\n",
       "      <td>0.844859</td>\n",
       "      <td>0.856969</td>\n",
       "      <td>0.848995</td>\n",
       "      <td>15000.000000</td>\n",
       "    </tr>\n",
       "    <tr>\n",
       "      <th>weighted avg</th>\n",
       "      <td>0.860131</td>\n",
       "      <td>0.854067</td>\n",
       "      <td>0.855323</td>\n",
       "      <td>15000.000000</td>\n",
       "    </tr>\n",
       "  </tbody>\n",
       "</table>\n",
       "</div>"
      ],
      "text/plain": [
       "              precision    recall  f1-score       support\n",
       "0              0.778070  0.869663  0.821321   5785.000000\n",
       "1              0.911648  0.844276  0.876669   9215.000000\n",
       "accuracy       0.854067  0.854067  0.854067      0.854067\n",
       "macro avg      0.844859  0.856969  0.848995  15000.000000\n",
       "weighted avg   0.860131  0.854067  0.855323  15000.000000"
      ]
     },
     "execution_count": 27,
     "metadata": {},
     "output_type": "execute_result"
    }
   ],
   "source": [
    "cr_rfc = classification_report(y_test,pred_rfc,output_dict=True)\n",
    "cr_rfc = pd.DataFrame(cr_rfc).T\n",
    "cr_rfc"
   ]
  },
  {
   "cell_type": "markdown",
   "metadata": {},
   "source": [
    "### Gradient Boosting Classifier"
   ]
  },
  {
   "cell_type": "code",
   "execution_count": 28,
   "metadata": {},
   "outputs": [
    {
     "data": {
      "text/plain": [
       "GradientBoostingClassifier(ccp_alpha=0.0, criterion='friedman_mse', init=None,\n",
       "                           learning_rate=0.1, loss='deviance', max_depth=3,\n",
       "                           max_features=None, max_leaf_nodes=None,\n",
       "                           min_impurity_decrease=0.0, min_impurity_split=None,\n",
       "                           min_samples_leaf=1, min_samples_split=2,\n",
       "                           min_weight_fraction_leaf=0.0, n_estimators=100,\n",
       "                           n_iter_no_change=None, presort='deprecated',\n",
       "                           random_state=None, subsample=1.0, tol=0.0001,\n",
       "                           validation_fraction=0.1, verbose=0,\n",
       "                           warm_start=False)"
      ]
     },
     "execution_count": 28,
     "metadata": {},
     "output_type": "execute_result"
    }
   ],
   "source": [
    "gradient = GradientBoostingClassifier()\n",
    "gradient.fit(X_train, y_train)"
   ]
  },
  {
   "cell_type": "code",
   "execution_count": 29,
   "metadata": {},
   "outputs": [],
   "source": [
    "pred_gradient = gradient.predict(X_test)\n",
    "proba_gradient = gradient.predict_proba(X_test)"
   ]
  },
  {
   "cell_type": "code",
   "execution_count": 30,
   "metadata": {},
   "outputs": [
    {
     "name": "stdout",
     "output_type": "stream",
     "text": [
      "<sklearn.metrics._plot.confusion_matrix.ConfusionMatrixDisplay object at 0x000001E68C690C48>\n"
     ]
    },
    {
     "data": {
      "image/png": "[encoded data removed]",
      "text/plain": [
       "<Figure size 432x288 with 2 Axes>"
      ]
     },
     "metadata": {
      "needs_background": "light"
     },
     "output_type": "display_data"
    }
   ],
   "source": [
    "print(plot_confusion_matrix(gradient, X_test, y_test))"
   ]
  },
  {
   "cell_type": "code",
   "execution_count": 31,
   "metadata": {},
   "outputs": [
    {
     "name": "stdout",
     "output_type": "stream",
     "text": [
      "[[5180  605]\n",
      " [1583 7632]]\n"
     ]
    }
   ],
   "source": [
    "print(confusion_matrix(y_test, pred_gradient))"
   ]
  },
  {
   "cell_type": "code",
   "execution_count": 32,
   "metadata": {},
   "outputs": [
    {
     "name": "stdout",
     "output_type": "stream",
     "text": [
      "              precision    recall  f1-score   support\n",
      "\n",
      "           0       0.77      0.90      0.83      5785\n",
      "           1       0.93      0.83      0.87      9215\n",
      "\n",
      "    accuracy                           0.85     15000\n",
      "   macro avg       0.85      0.86      0.85     15000\n",
      "weighted avg       0.86      0.85      0.86     15000\n",
      "\n"
     ]
    }
   ],
   "source": [
    "print(classification_report(y_test, pred_gradient))"
   ]
  },
  {
   "cell_type": "code",
   "execution_count": 33,
   "metadata": {},
   "outputs": [
    {
     "data": {
      "text/html": [
       "<div>\n",
       "<style scoped>\n",
       "    .dataframe tbody tr th:only-of-type {\n",
       "        vertical-align: middle;\n",
       "    }\n",
       "\n",
       "    .dataframe tbody tr th {\n",
       "        vertical-align: top;\n",
       "    }\n",
       "\n",
       "    .dataframe thead th {\n",
       "        text-align: right;\n",
       "    }\n",
       "</style>\n",
       "<table border=\"1\" class=\"dataframe\">\n",
       "  <thead>\n",
       "    <tr style=\"text-align: right;\">\n",
       "      <th></th>\n",
       "      <th>precision</th>\n",
       "      <th>recall</th>\n",
       "      <th>f1-score</th>\n",
       "      <th>support</th>\n",
       "    </tr>\n",
       "  </thead>\n",
       "  <tbody>\n",
       "    <tr>\n",
       "      <th>0</th>\n",
       "      <td>0.765932</td>\n",
       "      <td>0.895419</td>\n",
       "      <td>0.825630</td>\n",
       "      <td>5785.000000</td>\n",
       "    </tr>\n",
       "    <tr>\n",
       "      <th>1</th>\n",
       "      <td>0.926551</td>\n",
       "      <td>0.828215</td>\n",
       "      <td>0.874628</td>\n",
       "      <td>9215.000000</td>\n",
       "    </tr>\n",
       "    <tr>\n",
       "      <th>accuracy</th>\n",
       "      <td>0.854133</td>\n",
       "      <td>0.854133</td>\n",
       "      <td>0.854133</td>\n",
       "      <td>0.854133</td>\n",
       "    </tr>\n",
       "    <tr>\n",
       "      <th>macro avg</th>\n",
       "      <td>0.846242</td>\n",
       "      <td>0.861817</td>\n",
       "      <td>0.850129</td>\n",
       "      <td>15000.000000</td>\n",
       "    </tr>\n",
       "    <tr>\n",
       "      <th>weighted avg</th>\n",
       "      <td>0.864606</td>\n",
       "      <td>0.854133</td>\n",
       "      <td>0.855731</td>\n",
       "      <td>15000.000000</td>\n",
       "    </tr>\n",
       "  </tbody>\n",
       "</table>\n",
       "</div>"
      ],
      "text/plain": [
       "              precision    recall  f1-score       support\n",
       "0              0.765932  0.895419  0.825630   5785.000000\n",
       "1              0.926551  0.828215  0.874628   9215.000000\n",
       "accuracy       0.854133  0.854133  0.854133      0.854133\n",
       "macro avg      0.846242  0.861817  0.850129  15000.000000\n",
       "weighted avg   0.864606  0.854133  0.855731  15000.000000"
      ]
     },
     "execution_count": 33,
     "metadata": {},
     "output_type": "execute_result"
    }
   ],
   "source": [
    "cr_grad = classification_report(y_test,pred_gradient,output_dict=True)\n",
    "cr_grad = pd.DataFrame(cr_grad).T\n",
    "cr_grad"
   ]
  },
  {
   "cell_type": "markdown",
   "metadata": {},
   "source": [
    "### ROC AUC"
   ]
  },
  {
   "cell_type": "code",
   "execution_count": 34,
   "metadata": {},
   "outputs": [],
   "source": [
    "prob_logreg = proba_logreg[:,1]\n",
    "fpr_logreg, tpr_logreg, threshold_logreg = roc_curve(y_test, prob_logreg)\n",
    "roc_auc_logreg = auc(fpr_logreg, tpr_logreg)\n",
    "\n",
    "prob_dt = proba_dt[:,1]\n",
    "fpr_dt, tpr_dt, threshold_dt = roc_curve(y_test, prob_dt)\n",
    "roc_auc_dt = auc(fpr_dt, tpr_dt)\n",
    "\n",
    "prob_rfc = proba_rfc[:,1]\n",
    "fpr_rfc, tpr_rfc, threshold_rfc = roc_curve(y_test, prob_rfc)\n",
    "roc_auc_rfc = auc(fpr_rfc, tpr_rfc)\n",
    "\n",
    "prob_gradient = proba_gradient[:,1]\n",
    "fpr_gradient, tpr_gradient, threshold_gradient = roc_curve(y_test, prob_gradient)\n",
    "roc_auc_gradient = auc(fpr_gradient, tpr_gradient)"
   ]
  },
  {
   "cell_type": "code",
   "execution_count": 35,
   "metadata": {},
   "outputs": [
    {
     "data": {
      "image/png": "[encoded data removed]",
      "text/plain": [
       "<Figure size 1080x720 with 4 Axes>"
      ]
     },
     "metadata": {
      "needs_background": "light"
     },
     "output_type": "display_data"
    }
   ],
   "source": [
    "plt.figure(figsize=(15,10))\n",
    "plt.suptitle('ROC AUC')\n",
    "\n",
    "plt.subplot(221)\n",
    "plt.title('ROC AUC Logistic Regression')\n",
    "plt.plot(fpr_logreg, tpr_logreg, 'green', label='AUC Logistic = {}'.format(round(roc_auc_logreg,2)))\n",
    "plt.plot([0,1],[0,1], 'r--')\n",
    "plt.xlim([0,1])\n",
    "plt.ylim([0,1])\n",
    "plt.xlabel('False Positive Rate')\n",
    "plt.ylabel('True Positive Rate')\n",
    "plt.fill_between(fpr_logreg,tpr_logreg, 0, facecolor='azure', alpha=0.5)\n",
    "plt.legend(loc = 'lower right')\n",
    "\n",
    "plt.subplot(222)\n",
    "plt.title('ROC AUC Decion Tree')\n",
    "plt.plot(fpr_dt, tpr_dt, 'green', label='AUC Decion Tree = {}'.format(round(roc_auc_dt,2)))\n",
    "plt.plot([0,1],[0,1], 'r--')\n",
    "plt.xlim([0,1])\n",
    "plt.ylim([0,1])\n",
    "plt.xlabel('False Positive Rate')\n",
    "plt.ylabel('True Positive Rate')\n",
    "plt.fill_between(fpr_dt,tpr_dt, 0, facecolor='azure', alpha=0.5)\n",
    "plt.legend(loc = 'lower right')\n",
    "\n",
    "plt.subplot(223)\n",
    "plt.title('ROC AUC Random Forest Classifier')\n",
    "plt.plot(fpr_rfc, tpr_rfc, 'green', label='AUC RFC = {}'.format(round(roc_auc_rfc,2)))\n",
    "plt.plot([0,1],[0,1], 'r--')\n",
    "plt.xlim([0,1])\n",
    "plt.ylim([0,1])\n",
    "plt.xlabel('False Positive Rate')\n",
    "plt.ylabel('True Positive Rate')\n",
    "plt.fill_between(fpr_rfc,tpr_rfc, 0, facecolor='azure', alpha=0.5)\n",
    "plt.legend(loc = 'lower right')\n",
    "\n",
    "plt.subplot(224)\n",
    "plt.title('ROC AUC Gradient')\n",
    "plt.plot(fpr_gradient, tpr_gradient, 'green', label='AUC Gradient = {}'.format(round(roc_auc_gradient,2)))\n",
    "plt.plot([0,1],[0,1], 'r--')\n",
    "plt.xlim([0,1])\n",
    "plt.ylim([0,1])\n",
    "plt.xlabel('False Positive Rate')\n",
    "plt.ylabel('True Positive Rate')\n",
    "plt.fill_between(fpr_gradient,tpr_gradient, 0, facecolor='azure', alpha=0.5)\n",
    "plt.legend(loc = 'lower right')\n",
    "\n",
    "plt.show()"
   ]
  },
  {
   "cell_type": "markdown",
   "metadata": {},
   "source": [
    "## Metric Evaluation Summary\n",
    "Tujuan Model Machine Learning ini adalah untuk mengetahui user / customer mana yang akan berlangganan untuk menggunakan fitur Premium pada sebuah aplikasi. User/Customer yang diprediksi tidak subscribe bisa ditarget untuk campaign marketing selanjutnya, misal pemeberian discount,dll.\n",
    "\n",
    "Berdasarkan objecive di atas, untuk evaluation metrics berfokus pada angka False Positive(actualnya tdk subscribe, tetapi diprediksi subscribe) yang kecil. Jika angka FP besar, maka kita akan kehilangan banyak user/customer potensial sebagai target promo kita. Oleh karena itu penentuan model, akan berfokus pada Precision(+) & Recall (-), accuracy, serta ROC AUC"
   ]
  },
  {
   "cell_type": "code",
   "execution_count": 36,
   "metadata": {},
   "outputs": [],
   "source": [
    "prec_logreg = round(cr_logreg.iloc[1,0]*100,2)\n",
    "rec_logreg = round(cr_logreg.iloc[0,1]*100,2)\n",
    "acc_logerg = round(cr_logreg.iloc[2,0]*100,2)\n",
    "auc_logreg = round(auc(fpr_logreg, tpr_logreg)*100,2)\n",
    "\n",
    "prec_dt = round(cr_dt.iloc[1,0]*100,2)\n",
    "rec_dt = round(cr_dt.iloc[0,1]*100,2)\n",
    "acc_dt = round(cr_dt.iloc[2,0]*100,2)\n",
    "auc_dt = round(auc(fpr_dt, tpr_dt)*100,2)\n",
    "\n",
    "prec_rfc = round(cr_rfc.iloc[1,0]*100,2)\n",
    "rec_rfc = round(cr_rfc.iloc[0,1]*100,2)\n",
    "acc_rfc = round(cr_rfc.iloc[2,0]*100,2)\n",
    "auc_rfc = round(auc(fpr_rfc, tpr_rfc)*100,2)\n",
    "\n",
    "prec_grad = round(cr_grad.iloc[1,0]*100,2)\n",
    "rec_grad = round(cr_grad.iloc[0,1]*100,2)\n",
    "acc_grad = round(cr_grad.iloc[2,0]*100,2)\n",
    "auc_grad = round(auc(fpr_gradient, tpr_gradient)*100,2)\n",
    "\n",
    "all_prec = [prec_logreg, prec_dt, prec_rfc, prec_grad]\n",
    "all_rec = [rec_logreg,rec_dt,rec_rfc,rec_grad]\n",
    "all_acc = [acc_logerg, acc_dt, acc_rfc, acc_grad]\n",
    "all_auc = [auc_logreg, auc_dt, auc_rfc, auc_grad]"
   ]
  },
  {
   "cell_type": "code",
   "execution_count": 37,
   "metadata": {},
   "outputs": [
    {
     "data": {
      "text/html": [
       "<div>\n",
       "<style scoped>\n",
       "    .dataframe tbody tr th:only-of-type {\n",
       "        vertical-align: middle;\n",
       "    }\n",
       "\n",
       "    .dataframe tbody tr th {\n",
       "        vertical-align: top;\n",
       "    }\n",
       "\n",
       "    .dataframe thead th {\n",
       "        text-align: right;\n",
       "    }\n",
       "</style>\n",
       "<table border=\"1\" class=\"dataframe\">\n",
       "  <thead>\n",
       "    <tr style=\"text-align: right;\">\n",
       "      <th></th>\n",
       "      <th>precision(+)</th>\n",
       "      <th>recall(-)</th>\n",
       "      <th>accuracy</th>\n",
       "      <th>auc</th>\n",
       "    </tr>\n",
       "  </thead>\n",
       "  <tbody>\n",
       "    <tr>\n",
       "      <th>logreg</th>\n",
       "      <td>91.55</td>\n",
       "      <td>87.88</td>\n",
       "      <td>84.50</td>\n",
       "      <td>92.36</td>\n",
       "    </tr>\n",
       "    <tr>\n",
       "      <th>dtree</th>\n",
       "      <td>83.30</td>\n",
       "      <td>72.90</td>\n",
       "      <td>80.27</td>\n",
       "      <td>78.95</td>\n",
       "    </tr>\n",
       "    <tr>\n",
       "      <th>rfc</th>\n",
       "      <td>91.16</td>\n",
       "      <td>86.97</td>\n",
       "      <td>85.41</td>\n",
       "      <td>92.36</td>\n",
       "    </tr>\n",
       "    <tr>\n",
       "      <th>gradboost</th>\n",
       "      <td>92.66</td>\n",
       "      <td>89.54</td>\n",
       "      <td>85.41</td>\n",
       "      <td>92.90</td>\n",
       "    </tr>\n",
       "  </tbody>\n",
       "</table>\n",
       "</div>"
      ],
      "text/plain": [
       "           precision(+)  recall(-)  accuracy    auc\n",
       "logreg            91.55      87.88     84.50  92.36\n",
       "dtree             83.30      72.90     80.27  78.95\n",
       "rfc               91.16      86.97     85.41  92.36\n",
       "gradboost         92.66      89.54     85.41  92.90"
      ]
     },
     "execution_count": 37,
     "metadata": {},
     "output_type": "execute_result"
    }
   ],
   "source": [
    "df_mtrc = pd.DataFrame([all_prec,all_rec,all_acc, all_auc], columns=['logreg', 'dtree', 'rfc', 'gradboost'],\n",
    "                       index=['precision(+)', 'recall(-)', 'accuracy', 'auc'])\n",
    "df_mtrc = df_mtrc.T\n",
    "df_mtrc"
   ]
  },
  {
   "cell_type": "code",
   "execution_count": null,
   "metadata": {},
   "outputs": [],
   "source": []
  },
  {
   "cell_type": "markdown",
   "metadata": {},
   "source": [
    "## Hyperparameter Tuning\n",
    "1. Logistic Regression\n",
    "2. Random Forest Classifier\n",
    "3. Gradient Boosting Classifier"
   ]
  },
  {
   "cell_type": "markdown",
   "metadata": {},
   "source": [
    "### Logistic Regression"
   ]
  },
  {
   "cell_type": "code",
   "execution_count": 38,
   "metadata": {},
   "outputs": [],
   "source": [
    "logreg_cv = LogisticRegression()"
   ]
  },
  {
   "cell_type": "code",
   "execution_count": 39,
   "metadata": {},
   "outputs": [],
   "source": [
    "param_logreg_cv = {\n",
    "    'C': [0.1, 0.5, 0.9, 1, 2, 5],\n",
    "    'penalty':['l1','l2', 'elsaticnet'],\n",
    "    'solver':['newton-cg', 'lbfgs', 'liblinear', 'sag', 'saga']\n",
    "} \n",
    "\n",
    "logreg_cv_random = RandomizedSearchCV(estimator= logreg_cv,\n",
    "                              param_distributions= param_logreg_cv,\n",
    "                              n_iter=10, cv=5, n_jobs=-1)"
   ]
  },
  {
   "cell_type": "code",
   "execution_count": 40,
   "metadata": {},
   "outputs": [
    {
     "data": {
      "text/plain": [
       "RandomizedSearchCV(cv=5, error_score=nan,\n",
       "                   estimator=LogisticRegression(C=1.0, class_weight=None,\n",
       "                                                dual=False, fit_intercept=True,\n",
       "                                                intercept_scaling=1,\n",
       "                                                l1_ratio=None, max_iter=100,\n",
       "                                                multi_class='auto', n_jobs=None,\n",
       "                                                penalty='l2', random_state=None,\n",
       "                                                solver='lbfgs', tol=0.0001,\n",
       "                                                verbose=0, warm_start=False),\n",
       "                   iid='deprecated', n_iter=10, n_jobs=-1,\n",
       "                   param_distributions={'C': [0.1, 0.5, 0.9, 1, 2, 5],\n",
       "                                        'penalty': ['l1', 'l2', 'elsaticnet'],\n",
       "                                        'solver': ['newton-cg', 'lbfgs',\n",
       "                                                   'liblinear', 'sag',\n",
       "                                                   'saga']},\n",
       "                   pre_dispatch='2*n_jobs', random_state=None, refit=True,\n",
       "                   return_train_score=False, scoring=None, verbose=0)"
      ]
     },
     "execution_count": 40,
     "metadata": {},
     "output_type": "execute_result"
    }
   ],
   "source": [
    "logreg_cv_random.fit(X_train, y_train)"
   ]
  },
  {
   "cell_type": "code",
   "execution_count": 41,
   "metadata": {},
   "outputs": [
    {
     "data": {
      "text/plain": [
       "{'solver': 'liblinear', 'penalty': 'l2', 'C': 5}"
      ]
     },
     "execution_count": 41,
     "metadata": {},
     "output_type": "execute_result"
    }
   ],
   "source": [
    "logreg_cv_random.best_params_"
   ]
  },
  {
   "cell_type": "code",
   "execution_count": 42,
   "metadata": {},
   "outputs": [
    {
     "data": {
      "text/plain": [
       "LogisticRegression(C=5, class_weight=None, dual=False, fit_intercept=True,\n",
       "                   intercept_scaling=1, l1_ratio=None, max_iter=100,\n",
       "                   multi_class='auto', n_jobs=None, penalty='l2',\n",
       "                   random_state=None, solver='liblinear', tol=0.0001, verbose=0,\n",
       "                   warm_start=False)"
      ]
     },
     "execution_count": 42,
     "metadata": {},
     "output_type": "execute_result"
    }
   ],
   "source": [
    "logreg_cv_rand = logreg_cv_random.best_estimator_\n",
    "logreg_cv_rand"
   ]
  },
  {
   "cell_type": "code",
   "execution_count": 43,
   "metadata": {},
   "outputs": [],
   "source": [
    "pred_logreg_cv = logreg_cv_rand.predict(X_test)\n",
    "proba_logreg_cv = logreg_cv_rand.predict_proba(X_test)"
   ]
  },
  {
   "cell_type": "code",
   "execution_count": 44,
   "metadata": {},
   "outputs": [
    {
     "name": "stdout",
     "output_type": "stream",
     "text": [
      "[[5103  682]\n",
      " [1576 7639]]\n"
     ]
    }
   ],
   "source": [
    "print(confusion_matrix(y_test, pred_logreg_cv))"
   ]
  },
  {
   "cell_type": "code",
   "execution_count": 45,
   "metadata": {},
   "outputs": [
    {
     "name": "stdout",
     "output_type": "stream",
     "text": [
      "              precision    recall  f1-score   support\n",
      "\n",
      "           0       0.76      0.88      0.82      5785\n",
      "           1       0.92      0.83      0.87      9215\n",
      "\n",
      "    accuracy                           0.85     15000\n",
      "   macro avg       0.84      0.86      0.85     15000\n",
      "weighted avg       0.86      0.85      0.85     15000\n",
      "\n"
     ]
    }
   ],
   "source": [
    "print(classification_report(y_test, pred_logreg_cv))"
   ]
  },
  {
   "cell_type": "code",
   "execution_count": 46,
   "metadata": {},
   "outputs": [
    {
     "data": {
      "text/html": [
       "<div>\n",
       "<style scoped>\n",
       "    .dataframe tbody tr th:only-of-type {\n",
       "        vertical-align: middle;\n",
       "    }\n",
       "\n",
       "    .dataframe tbody tr th {\n",
       "        vertical-align: top;\n",
       "    }\n",
       "\n",
       "    .dataframe thead th {\n",
       "        text-align: right;\n",
       "    }\n",
       "</style>\n",
       "<table border=\"1\" class=\"dataframe\">\n",
       "  <thead>\n",
       "    <tr style=\"text-align: right;\">\n",
       "      <th></th>\n",
       "      <th>precision</th>\n",
       "      <th>recall</th>\n",
       "      <th>f1-score</th>\n",
       "      <th>support</th>\n",
       "    </tr>\n",
       "  </thead>\n",
       "  <tbody>\n",
       "    <tr>\n",
       "      <th>0</th>\n",
       "      <td>0.764037</td>\n",
       "      <td>0.882109</td>\n",
       "      <td>0.818838</td>\n",
       "      <td>5785.000000</td>\n",
       "    </tr>\n",
       "    <tr>\n",
       "      <th>1</th>\n",
       "      <td>0.918039</td>\n",
       "      <td>0.828974</td>\n",
       "      <td>0.871236</td>\n",
       "      <td>9215.000000</td>\n",
       "    </tr>\n",
       "    <tr>\n",
       "      <th>accuracy</th>\n",
       "      <td>0.849467</td>\n",
       "      <td>0.849467</td>\n",
       "      <td>0.849467</td>\n",
       "      <td>0.849467</td>\n",
       "    </tr>\n",
       "    <tr>\n",
       "      <th>macro avg</th>\n",
       "      <td>0.841038</td>\n",
       "      <td>0.855542</td>\n",
       "      <td>0.845037</td>\n",
       "      <td>15000.000000</td>\n",
       "    </tr>\n",
       "    <tr>\n",
       "      <th>weighted avg</th>\n",
       "      <td>0.858645</td>\n",
       "      <td>0.849467</td>\n",
       "      <td>0.851028</td>\n",
       "      <td>15000.000000</td>\n",
       "    </tr>\n",
       "  </tbody>\n",
       "</table>\n",
       "</div>"
      ],
      "text/plain": [
       "              precision    recall  f1-score       support\n",
       "0              0.764037  0.882109  0.818838   5785.000000\n",
       "1              0.918039  0.828974  0.871236   9215.000000\n",
       "accuracy       0.849467  0.849467  0.849467      0.849467\n",
       "macro avg      0.841038  0.855542  0.845037  15000.000000\n",
       "weighted avg   0.858645  0.849467  0.851028  15000.000000"
      ]
     },
     "execution_count": 46,
     "metadata": {},
     "output_type": "execute_result"
    }
   ],
   "source": [
    "cr_logreg_rand = classification_report(y_test,pred_logreg_cv,output_dict=True)\n",
    "cr_logreg_rand = pd.DataFrame(cr_logreg_rand).T\n",
    "cr_logreg_rand"
   ]
  },
  {
   "cell_type": "markdown",
   "metadata": {},
   "source": [
    "### Random Forest Classifier"
   ]
  },
  {
   "cell_type": "code",
   "execution_count": 47,
   "metadata": {},
   "outputs": [],
   "source": [
    "rfc_cv = RandomForestClassifier()"
   ]
  },
  {
   "cell_type": "code",
   "execution_count": 48,
   "metadata": {},
   "outputs": [],
   "source": [
    "param_rfc_cv = {\n",
    "    'bootstrap': [True, False],\n",
    "    'criterion' : ['gini', 'entropy'],\n",
    "    'max_depth' : [int(x) for x in np.arange(10,120,20)],\n",
    "    'min_samples_split' : [int(x) for x in np.arange(2,12,2)],\n",
    "    'n_estimators' : [int(x) for x in np.linspace(start=100, stop=1000, num=10)]\n",
    "}\n",
    "\n",
    "rfc_cv_random = RandomizedSearchCV(estimator= rfc_cv,\n",
    "                              param_distributions= param_rfc_cv,\n",
    "                              n_iter=10, cv=5, n_jobs=-1)"
   ]
  },
  {
   "cell_type": "code",
   "execution_count": 49,
   "metadata": {},
   "outputs": [
    {
     "data": {
      "text/plain": [
       "RandomizedSearchCV(cv=5, error_score=nan,\n",
       "                   estimator=RandomForestClassifier(bootstrap=True,\n",
       "                                                    ccp_alpha=0.0,\n",
       "                                                    class_weight=None,\n",
       "                                                    criterion='gini',\n",
       "                                                    max_depth=None,\n",
       "                                                    max_features='auto',\n",
       "                                                    max_leaf_nodes=None,\n",
       "                                                    max_samples=None,\n",
       "                                                    min_impurity_decrease=0.0,\n",
       "                                                    min_impurity_split=None,\n",
       "                                                    min_samples_leaf=1,\n",
       "                                                    min_samples_split=2,\n",
       "                                                    min_weight_fraction_leaf=0.0,\n",
       "                                                    n_estimators=100,\n",
       "                                                    n_jobs...\n",
       "                                                    warm_start=False),\n",
       "                   iid='deprecated', n_iter=10, n_jobs=-1,\n",
       "                   param_distributions={'bootstrap': [True, False],\n",
       "                                        'criterion': ['gini', 'entropy'],\n",
       "                                        'max_depth': [10, 30, 50, 70, 90, 110],\n",
       "                                        'min_samples_split': [2, 4, 6, 8, 10],\n",
       "                                        'n_estimators': [100, 200, 300, 400,\n",
       "                                                         500, 600, 700, 800,\n",
       "                                                         900, 1000]},\n",
       "                   pre_dispatch='2*n_jobs', random_state=None, refit=True,\n",
       "                   return_train_score=False, scoring=None, verbose=0)"
      ]
     },
     "execution_count": 49,
     "metadata": {},
     "output_type": "execute_result"
    }
   ],
   "source": [
    "rfc_cv_random.fit(X_train, y_train)"
   ]
  },
  {
   "cell_type": "code",
   "execution_count": 50,
   "metadata": {},
   "outputs": [
    {
     "data": {
      "text/plain": [
       "{'n_estimators': 900,\n",
       " 'min_samples_split': 10,\n",
       " 'max_depth': 90,\n",
       " 'criterion': 'entropy',\n",
       " 'bootstrap': True}"
      ]
     },
     "execution_count": 50,
     "metadata": {},
     "output_type": "execute_result"
    }
   ],
   "source": [
    "rfc_cv_random.best_params_"
   ]
  },
  {
   "cell_type": "code",
   "execution_count": 51,
   "metadata": {},
   "outputs": [
    {
     "data": {
      "text/plain": [
       "RandomForestClassifier(bootstrap=True, ccp_alpha=0.0, class_weight=None,\n",
       "                       criterion='entropy', max_depth=90, max_features='auto',\n",
       "                       max_leaf_nodes=None, max_samples=None,\n",
       "                       min_impurity_decrease=0.0, min_impurity_split=None,\n",
       "                       min_samples_leaf=1, min_samples_split=10,\n",
       "                       min_weight_fraction_leaf=0.0, n_estimators=900,\n",
       "                       n_jobs=None, oob_score=False, random_state=None,\n",
       "                       verbose=0, warm_start=False)"
      ]
     },
     "execution_count": 51,
     "metadata": {},
     "output_type": "execute_result"
    }
   ],
   "source": [
    "rfc_cv_rand = rfc_cv_random.best_estimator_\n",
    "rfc_cv_rand"
   ]
  },
  {
   "cell_type": "code",
   "execution_count": 52,
   "metadata": {},
   "outputs": [],
   "source": [
    "pred_rfc_cv = rfc_cv_rand.predict(X_test)\n",
    "proba_rfc_cv = rfc_cv_rand.predict_proba(X_test)"
   ]
  },
  {
   "cell_type": "code",
   "execution_count": 53,
   "metadata": {},
   "outputs": [
    {
     "name": "stdout",
     "output_type": "stream",
     "text": [
      "[[5099  686]\n",
      " [1420 7795]]\n"
     ]
    }
   ],
   "source": [
    "print(confusion_matrix(y_test, pred_rfc_cv))"
   ]
  },
  {
   "cell_type": "code",
   "execution_count": 54,
   "metadata": {},
   "outputs": [
    {
     "name": "stdout",
     "output_type": "stream",
     "text": [
      "              precision    recall  f1-score   support\n",
      "\n",
      "           0       0.78      0.88      0.83      5785\n",
      "           1       0.92      0.85      0.88      9215\n",
      "\n",
      "    accuracy                           0.86     15000\n",
      "   macro avg       0.85      0.86      0.85     15000\n",
      "weighted avg       0.87      0.86      0.86     15000\n",
      "\n"
     ]
    }
   ],
   "source": [
    "print(classification_report(y_test, pred_rfc_cv))"
   ]
  },
  {
   "cell_type": "code",
   "execution_count": 55,
   "metadata": {},
   "outputs": [
    {
     "data": {
      "text/html": [
       "<div>\n",
       "<style scoped>\n",
       "    .dataframe tbody tr th:only-of-type {\n",
       "        vertical-align: middle;\n",
       "    }\n",
       "\n",
       "    .dataframe tbody tr th {\n",
       "        vertical-align: top;\n",
       "    }\n",
       "\n",
       "    .dataframe thead th {\n",
       "        text-align: right;\n",
       "    }\n",
       "</style>\n",
       "<table border=\"1\" class=\"dataframe\">\n",
       "  <thead>\n",
       "    <tr style=\"text-align: right;\">\n",
       "      <th></th>\n",
       "      <th>precision</th>\n",
       "      <th>recall</th>\n",
       "      <th>f1-score</th>\n",
       "      <th>support</th>\n",
       "    </tr>\n",
       "  </thead>\n",
       "  <tbody>\n",
       "    <tr>\n",
       "      <th>0</th>\n",
       "      <td>0.782175</td>\n",
       "      <td>0.881417</td>\n",
       "      <td>0.828836</td>\n",
       "      <td>5785.0000</td>\n",
       "    </tr>\n",
       "    <tr>\n",
       "      <th>1</th>\n",
       "      <td>0.919113</td>\n",
       "      <td>0.845903</td>\n",
       "      <td>0.880990</td>\n",
       "      <td>9215.0000</td>\n",
       "    </tr>\n",
       "    <tr>\n",
       "      <th>accuracy</th>\n",
       "      <td>0.859600</td>\n",
       "      <td>0.859600</td>\n",
       "      <td>0.859600</td>\n",
       "      <td>0.8596</td>\n",
       "    </tr>\n",
       "    <tr>\n",
       "      <th>macro avg</th>\n",
       "      <td>0.850644</td>\n",
       "      <td>0.863660</td>\n",
       "      <td>0.854913</td>\n",
       "      <td>15000.0000</td>\n",
       "    </tr>\n",
       "    <tr>\n",
       "      <th>weighted avg</th>\n",
       "      <td>0.866301</td>\n",
       "      <td>0.859600</td>\n",
       "      <td>0.860876</td>\n",
       "      <td>15000.0000</td>\n",
       "    </tr>\n",
       "  </tbody>\n",
       "</table>\n",
       "</div>"
      ],
      "text/plain": [
       "              precision    recall  f1-score     support\n",
       "0              0.782175  0.881417  0.828836   5785.0000\n",
       "1              0.919113  0.845903  0.880990   9215.0000\n",
       "accuracy       0.859600  0.859600  0.859600      0.8596\n",
       "macro avg      0.850644  0.863660  0.854913  15000.0000\n",
       "weighted avg   0.866301  0.859600  0.860876  15000.0000"
      ]
     },
     "execution_count": 55,
     "metadata": {},
     "output_type": "execute_result"
    }
   ],
   "source": [
    "cr_rfc_rand = classification_report(y_test,pred_rfc_cv,output_dict=True)\n",
    "cr_rfc_rand = pd.DataFrame(cr_rfc_rand).T\n",
    "cr_rfc_rand"
   ]
  },
  {
   "cell_type": "markdown",
   "metadata": {},
   "source": [
    "### Gradient Boosting Classifier"
   ]
  },
  {
   "cell_type": "code",
   "execution_count": 56,
   "metadata": {},
   "outputs": [],
   "source": [
    "gradient_cv = GradientBoostingClassifier()"
   ]
  },
  {
   "cell_type": "code",
   "execution_count": 57,
   "metadata": {},
   "outputs": [],
   "source": [
    "param_gradient_cv = {\n",
    "    'learning_rate': [1, 0.5, 0.25, 0.1, 0.05, 0.01],\n",
    "    'n_estimators' : [1, 2, 4, 8, 16, 32, 64, 100, 200],\n",
    "    'max_depth' : [int(x) for x in np.arange(10,120,20)],\n",
    "    'min_samples_split' : [int(x) for x in np.arange(2,12,2)]    \n",
    "}\n",
    "\n",
    "gradient_cv_random = RandomizedSearchCV(estimator= gradient_cv,\n",
    "                              param_distributions= param_gradient_cv,\n",
    "                              n_iter=10, cv=5, n_jobs=-1)"
   ]
  },
  {
   "cell_type": "code",
   "execution_count": 58,
   "metadata": {},
   "outputs": [
    {
     "data": {
      "text/plain": [
       "RandomizedSearchCV(cv=5, error_score=nan,\n",
       "                   estimator=GradientBoostingClassifier(ccp_alpha=0.0,\n",
       "                                                        criterion='friedman_mse',\n",
       "                                                        init=None,\n",
       "                                                        learning_rate=0.1,\n",
       "                                                        loss='deviance',\n",
       "                                                        max_depth=3,\n",
       "                                                        max_features=None,\n",
       "                                                        max_leaf_nodes=None,\n",
       "                                                        min_impurity_decrease=0.0,\n",
       "                                                        min_impurity_split=None,\n",
       "                                                        min_samples_leaf=1,\n",
       "                                                        min_samples_split=2,\n",
       "                                                        min_weight_fraction_leaf=0.0,\n",
       "                                                        n_estimators=100,\n",
       "                                                        n_ite...\n",
       "                                                        validation_fraction=0.1,\n",
       "                                                        verbose=0,\n",
       "                                                        warm_start=False),\n",
       "                   iid='deprecated', n_iter=10, n_jobs=-1,\n",
       "                   param_distributions={'learning_rate': [1, 0.5, 0.25, 0.1,\n",
       "                                                          0.05, 0.01],\n",
       "                                        'max_depth': [10, 30, 50, 70, 90, 110],\n",
       "                                        'min_samples_split': [2, 4, 6, 8, 10],\n",
       "                                        'n_estimators': [1, 2, 4, 8, 16, 32, 64,\n",
       "                                                         100, 200]},\n",
       "                   pre_dispatch='2*n_jobs', random_state=None, refit=True,\n",
       "                   return_train_score=False, scoring=None, verbose=0)"
      ]
     },
     "execution_count": 58,
     "metadata": {},
     "output_type": "execute_result"
    }
   ],
   "source": [
    "gradient_cv_random.fit(X_train, y_train)"
   ]
  },
  {
   "cell_type": "code",
   "execution_count": 59,
   "metadata": {},
   "outputs": [
    {
     "data": {
      "text/plain": [
       "{'n_estimators': 4,\n",
       " 'min_samples_split': 4,\n",
       " 'max_depth': 10,\n",
       " 'learning_rate': 0.25}"
      ]
     },
     "execution_count": 59,
     "metadata": {},
     "output_type": "execute_result"
    }
   ],
   "source": [
    "gradient_cv_random.best_params_"
   ]
  },
  {
   "cell_type": "code",
   "execution_count": 60,
   "metadata": {},
   "outputs": [
    {
     "data": {
      "text/plain": [
       "GradientBoostingClassifier(ccp_alpha=0.0, criterion='friedman_mse', init=None,\n",
       "                           learning_rate=0.25, loss='deviance', max_depth=10,\n",
       "                           max_features=None, max_leaf_nodes=None,\n",
       "                           min_impurity_decrease=0.0, min_impurity_split=None,\n",
       "                           min_samples_leaf=1, min_samples_split=4,\n",
       "                           min_weight_fraction_leaf=0.0, n_estimators=4,\n",
       "                           n_iter_no_change=None, presort='deprecated',\n",
       "                           random_state=None, subsample=1.0, tol=0.0001,\n",
       "                           validation_fraction=0.1, verbose=0,\n",
       "                           warm_start=False)"
      ]
     },
     "execution_count": 60,
     "metadata": {},
     "output_type": "execute_result"
    }
   ],
   "source": [
    "gradient_cv_rand = gradient_cv_random.best_estimator_\n",
    "gradient_cv_rand"
   ]
  },
  {
   "cell_type": "code",
   "execution_count": 61,
   "metadata": {},
   "outputs": [],
   "source": [
    "pred_gradient_cv = gradient_cv_rand.predict(X_test)\n",
    "proba_gradient_cv = gradient_cv_rand.predict_proba(X_test)"
   ]
  },
  {
   "cell_type": "code",
   "execution_count": 62,
   "metadata": {},
   "outputs": [
    {
     "name": "stdout",
     "output_type": "stream",
     "text": [
      "[[4893  892]\n",
      " [1346 7869]]\n"
     ]
    }
   ],
   "source": [
    "print(confusion_matrix(y_test, pred_gradient_cv))"
   ]
  },
  {
   "cell_type": "code",
   "execution_count": 63,
   "metadata": {},
   "outputs": [
    {
     "name": "stdout",
     "output_type": "stream",
     "text": [
      "              precision    recall  f1-score   support\n",
      "\n",
      "           0       0.78      0.85      0.81      5785\n",
      "           1       0.90      0.85      0.88      9215\n",
      "\n",
      "    accuracy                           0.85     15000\n",
      "   macro avg       0.84      0.85      0.84     15000\n",
      "weighted avg       0.85      0.85      0.85     15000\n",
      "\n"
     ]
    }
   ],
   "source": [
    "print(classification_report(y_test, pred_gradient_cv))"
   ]
  },
  {
   "cell_type": "code",
   "execution_count": 64,
   "metadata": {},
   "outputs": [
    {
     "data": {
      "text/html": [
       "<div>\n",
       "<style scoped>\n",
       "    .dataframe tbody tr th:only-of-type {\n",
       "        vertical-align: middle;\n",
       "    }\n",
       "\n",
       "    .dataframe tbody tr th {\n",
       "        vertical-align: top;\n",
       "    }\n",
       "\n",
       "    .dataframe thead th {\n",
       "        text-align: right;\n",
       "    }\n",
       "</style>\n",
       "<table border=\"1\" class=\"dataframe\">\n",
       "  <thead>\n",
       "    <tr style=\"text-align: right;\">\n",
       "      <th></th>\n",
       "      <th>precision</th>\n",
       "      <th>recall</th>\n",
       "      <th>f1-score</th>\n",
       "      <th>support</th>\n",
       "    </tr>\n",
       "  </thead>\n",
       "  <tbody>\n",
       "    <tr>\n",
       "      <th>0</th>\n",
       "      <td>0.784260</td>\n",
       "      <td>0.845808</td>\n",
       "      <td>0.813872</td>\n",
       "      <td>5785.0000</td>\n",
       "    </tr>\n",
       "    <tr>\n",
       "      <th>1</th>\n",
       "      <td>0.898185</td>\n",
       "      <td>0.853934</td>\n",
       "      <td>0.875501</td>\n",
       "      <td>9215.0000</td>\n",
       "    </tr>\n",
       "    <tr>\n",
       "      <th>accuracy</th>\n",
       "      <td>0.850800</td>\n",
       "      <td>0.850800</td>\n",
       "      <td>0.850800</td>\n",
       "      <td>0.8508</td>\n",
       "    </tr>\n",
       "    <tr>\n",
       "      <th>macro avg</th>\n",
       "      <td>0.841223</td>\n",
       "      <td>0.849871</td>\n",
       "      <td>0.844686</td>\n",
       "      <td>15000.0000</td>\n",
       "    </tr>\n",
       "    <tr>\n",
       "      <th>weighted avg</th>\n",
       "      <td>0.854248</td>\n",
       "      <td>0.850800</td>\n",
       "      <td>0.851733</td>\n",
       "      <td>15000.0000</td>\n",
       "    </tr>\n",
       "  </tbody>\n",
       "</table>\n",
       "</div>"
      ],
      "text/plain": [
       "              precision    recall  f1-score     support\n",
       "0              0.784260  0.845808  0.813872   5785.0000\n",
       "1              0.898185  0.853934  0.875501   9215.0000\n",
       "accuracy       0.850800  0.850800  0.850800      0.8508\n",
       "macro avg      0.841223  0.849871  0.844686  15000.0000\n",
       "weighted avg   0.854248  0.850800  0.851733  15000.0000"
      ]
     },
     "execution_count": 64,
     "metadata": {},
     "output_type": "execute_result"
    }
   ],
   "source": [
    "cr_grad_rand = classification_report(y_test,pred_gradient_cv,output_dict=True)\n",
    "cr_grad_rand = pd.DataFrame(cr_grad_rand).T\n",
    "cr_grad_rand"
   ]
  },
  {
   "cell_type": "markdown",
   "metadata": {},
   "source": [
    "## ROC AUC for Model Tuning"
   ]
  },
  {
   "cell_type": "code",
   "execution_count": 65,
   "metadata": {},
   "outputs": [],
   "source": [
    "prob_logreg_cv = proba_logreg_cv[:,1]\n",
    "fpr_logreg_cv, tpr_logreg_cv, threshold_logreg_cv = roc_curve(y_test, prob_logreg_cv)\n",
    "roc_auc_logreg_cv = auc(fpr_logreg_cv, tpr_logreg_cv)\n",
    "\n",
    "prob_rfc_cv = proba_rfc_cv[:,1]\n",
    "fpr_rfc_cv, tpr_rfc_cv, threshold_rfc_cv = roc_curve(y_test, prob_rfc_cv)\n",
    "roc_auc_rfc_cv = auc(fpr_rfc, tpr_rfc)\n",
    "\n",
    "prob_gradient_cv = proba_gradient_cv[:,1]\n",
    "fpr_gradient_cv, tpr_gradient_cv, threshold_gradient_cv = roc_curve(y_test, prob_gradient_cv)\n",
    "roc_auc_gradient_cv = auc(fpr_gradient_cv, tpr_gradient_cv)"
   ]
  },
  {
   "cell_type": "code",
   "execution_count": 66,
   "metadata": {},
   "outputs": [
    {
     "data": {
      "image/png": "[encoded data removed]",
      "text/plain": [
       "<Figure size 1080x432 with 3 Axes>"
      ]
     },
     "metadata": {
      "needs_background": "light"
     },
     "output_type": "display_data"
    }
   ],
   "source": [
    "plt.figure(figsize=(15,6))\n",
    "plt.suptitle('ROC AUC with Hyperparameter Tuning')\n",
    "\n",
    "plt.subplot(131)\n",
    "plt.title('ROC AUC Logistic Regression')\n",
    "plt.plot(fpr_logreg_cv, tpr_logreg_cv, 'green', label='AUC Logistic = {}'.format(round(roc_auc_logreg_cv,2)))\n",
    "plt.plot([0,1],[0,1], 'r--')\n",
    "plt.xlim([0,1])\n",
    "plt.ylim([0,1])\n",
    "plt.xlabel('False Positive Rate')\n",
    "plt.ylabel('True Positive Rate')\n",
    "plt.fill_between(fpr_logreg_cv,tpr_logreg_cv, 0, facecolor='azure', alpha=0.5)\n",
    "plt.legend(loc = 'lower right')\n",
    "\n",
    "plt.subplot(132)\n",
    "plt.title('ROC AUC Random Forest Classifier')\n",
    "plt.plot(fpr_rfc_cv, tpr_rfc_cv, 'green', label='AUC RFC = {}'.format(round(roc_auc_rfc_cv,2)))\n",
    "plt.plot([0,1],[0,1], 'r--')\n",
    "plt.xlim([0,1])\n",
    "plt.ylim([0,1])\n",
    "plt.xlabel('False Positive Rate')\n",
    "plt.ylabel('True Positive Rate')\n",
    "plt.fill_between(fpr_rfc_cv,tpr_rfc_cv, 0, facecolor='azure', alpha=0.5)\n",
    "plt.legend(loc = 'lower right')\n",
    "\n",
    "plt.subplot(133)\n",
    "plt.title('ROC AUC Gradient')\n",
    "plt.plot(fpr_gradient_cv, tpr_gradient_cv, 'green', label='AUC Gradient = {}'.format(round(roc_auc_gradient_cv,2)))\n",
    "plt.plot([0,1],[0,1], 'r--')\n",
    "plt.xlim([0,1])\n",
    "plt.ylim([0,1])\n",
    "plt.xlabel('False Positive Rate')\n",
    "plt.ylabel('True Positive Rate')\n",
    "plt.fill_between(fpr_gradient_cv,tpr_gradient_cv, 0, facecolor='azure', alpha=0.5)\n",
    "plt.legend(loc = 'lower right')\n",
    "\n",
    "plt.show()"
   ]
  },
  {
   "cell_type": "markdown",
   "metadata": {},
   "source": [
    "## Metric Evaluation for Model Tuning"
   ]
  },
  {
   "cell_type": "code",
   "execution_count": 67,
   "metadata": {},
   "outputs": [],
   "source": [
    "prec_logreg_rand = round(cr_logreg_rand.iloc[1,0]*100,2)\n",
    "rec_logreg_rand = round(cr_logreg_rand.iloc[0,1]*100,2)\n",
    "acc_logerg_rand = round(cr_logreg_rand.iloc[2,0]*100,2)\n",
    "auc_logreg_rand = round(auc(fpr_logreg_cv, tpr_logreg_cv)*100,2)\n",
    "\n",
    "prec_rfc_rand = round(cr_rfc_rand.iloc[1,0]*100,2)\n",
    "rec_rfc_rand = round(cr_rfc_rand.iloc[0,1]*100,2)\n",
    "acc_rfc_rand = round(cr_rfc_rand.iloc[2,0]*100,2)\n",
    "auc_rfc_rand = round(auc(fpr_rfc_cv, tpr_rfc_cv)*100,2)\n",
    "\n",
    "prec_grad_rand = round(cr_grad_rand.iloc[1,0]*100,2)\n",
    "rec_grad_rand = round(cr_grad_rand.iloc[0,1]*100,2)\n",
    "acc_grad_rand = round(cr_grad_rand.iloc[2,0]*100,2)\n",
    "auc_grad_rand = round(auc(fpr_gradient_cv, tpr_gradient_cv)*100,2)\n",
    "\n",
    "all_prec_rand = [prec_logreg_rand, prec_rfc_rand, prec_grad_rand]\n",
    "all_rec_rand = [rec_logreg_rand, rec_rfc_rand, rec_grad_rand]\n",
    "all_acc_rand = [acc_logerg_rand, acc_rfc_rand, acc_grad_rand]\n",
    "all_auc_rand = [auc_logreg_rand, auc_rfc_rand, auc_grad_rand]"
   ]
  },
  {
   "cell_type": "code",
   "execution_count": 68,
   "metadata": {},
   "outputs": [
    {
     "data": {
      "text/html": [
       "<div>\n",
       "<style scoped>\n",
       "    .dataframe tbody tr th:only-of-type {\n",
       "        vertical-align: middle;\n",
       "    }\n",
       "\n",
       "    .dataframe tbody tr th {\n",
       "        vertical-align: top;\n",
       "    }\n",
       "\n",
       "    .dataframe thead th {\n",
       "        text-align: right;\n",
       "    }\n",
       "</style>\n",
       "<table border=\"1\" class=\"dataframe\">\n",
       "  <thead>\n",
       "    <tr style=\"text-align: right;\">\n",
       "      <th></th>\n",
       "      <th>precision(+)</th>\n",
       "      <th>recall(-)</th>\n",
       "      <th>accuracy</th>\n",
       "      <th>auc</th>\n",
       "    </tr>\n",
       "  </thead>\n",
       "  <tbody>\n",
       "    <tr>\n",
       "      <th>logreg_rand</th>\n",
       "      <td>91.80</td>\n",
       "      <td>88.21</td>\n",
       "      <td>84.95</td>\n",
       "      <td>92.66</td>\n",
       "    </tr>\n",
       "    <tr>\n",
       "      <th>rfc_rand</th>\n",
       "      <td>91.91</td>\n",
       "      <td>88.14</td>\n",
       "      <td>85.96</td>\n",
       "      <td>92.93</td>\n",
       "    </tr>\n",
       "    <tr>\n",
       "      <th>gradboost_rand</th>\n",
       "      <td>89.82</td>\n",
       "      <td>84.58</td>\n",
       "      <td>85.08</td>\n",
       "      <td>92.62</td>\n",
       "    </tr>\n",
       "  </tbody>\n",
       "</table>\n",
       "</div>"
      ],
      "text/plain": [
       "                precision(+)  recall(-)  accuracy    auc\n",
       "logreg_rand            91.80      88.21     84.95  92.66\n",
       "rfc_rand               91.91      88.14     85.96  92.93\n",
       "gradboost_rand         89.82      84.58     85.08  92.62"
      ]
     },
     "execution_count": 68,
     "metadata": {},
     "output_type": "execute_result"
    }
   ],
   "source": [
    "df_mtrc_rand = pd.DataFrame([all_prec_rand, all_rec_rand, all_acc_rand, all_auc_rand], \n",
    "                            columns=['logreg_rand', 'rfc_rand', 'gradboost_rand'],\n",
    "                       index=['precision(+)', 'recall(-)', 'accuracy', 'auc'])\n",
    "df_mtrc_rand = df_mtrc_rand.T\n",
    "df_mtrc_rand"
   ]
  },
  {
   "cell_type": "markdown",
   "metadata": {},
   "source": [
    "## Comaparing Models Metric Evaluation"
   ]
  },
  {
   "cell_type": "code",
   "execution_count": 85,
   "metadata": {},
   "outputs": [
    {
     "data": {
      "text/html": [
       "<div>\n",
       "<style scoped>\n",
       "    .dataframe tbody tr th:only-of-type {\n",
       "        vertical-align: middle;\n",
       "    }\n",
       "\n",
       "    .dataframe tbody tr th {\n",
       "        vertical-align: top;\n",
       "    }\n",
       "\n",
       "    .dataframe thead th {\n",
       "        text-align: right;\n",
       "    }\n",
       "</style>\n",
       "<table border=\"1\" class=\"dataframe\">\n",
       "  <thead>\n",
       "    <tr style=\"text-align: right;\">\n",
       "      <th></th>\n",
       "      <th>precision(+)</th>\n",
       "      <th>recall(-)</th>\n",
       "      <th>accuracy</th>\n",
       "      <th>auc</th>\n",
       "    </tr>\n",
       "  </thead>\n",
       "  <tbody>\n",
       "    <tr>\n",
       "      <th>gradboost</th>\n",
       "      <td>92.66</td>\n",
       "      <td>89.54</td>\n",
       "      <td>85.41</td>\n",
       "      <td>92.90</td>\n",
       "    </tr>\n",
       "    <tr>\n",
       "      <th>rfc_rand</th>\n",
       "      <td>91.91</td>\n",
       "      <td>88.14</td>\n",
       "      <td>85.96</td>\n",
       "      <td>92.93</td>\n",
       "    </tr>\n",
       "    <tr>\n",
       "      <th>logreg_rand</th>\n",
       "      <td>91.80</td>\n",
       "      <td>88.21</td>\n",
       "      <td>84.95</td>\n",
       "      <td>92.66</td>\n",
       "    </tr>\n",
       "    <tr>\n",
       "      <th>logreg</th>\n",
       "      <td>91.55</td>\n",
       "      <td>87.88</td>\n",
       "      <td>84.50</td>\n",
       "      <td>92.36</td>\n",
       "    </tr>\n",
       "    <tr>\n",
       "      <th>rfc</th>\n",
       "      <td>91.16</td>\n",
       "      <td>86.97</td>\n",
       "      <td>85.41</td>\n",
       "      <td>92.36</td>\n",
       "    </tr>\n",
       "    <tr>\n",
       "      <th>gradboost_rand</th>\n",
       "      <td>89.82</td>\n",
       "      <td>84.58</td>\n",
       "      <td>85.08</td>\n",
       "      <td>92.62</td>\n",
       "    </tr>\n",
       "    <tr>\n",
       "      <th>dtree</th>\n",
       "      <td>83.30</td>\n",
       "      <td>72.90</td>\n",
       "      <td>80.27</td>\n",
       "      <td>78.95</td>\n",
       "    </tr>\n",
       "  </tbody>\n",
       "</table>\n",
       "</div>"
      ],
      "text/plain": [
       "                precision(+)  recall(-)  accuracy    auc\n",
       "gradboost              92.66      89.54     85.41  92.90\n",
       "rfc_rand               91.91      88.14     85.96  92.93\n",
       "logreg_rand            91.80      88.21     84.95  92.66\n",
       "logreg                 91.55      87.88     84.50  92.36\n",
       "rfc                    91.16      86.97     85.41  92.36\n",
       "gradboost_rand         89.82      84.58     85.08  92.62\n",
       "dtree                  83.30      72.90     80.27  78.95"
      ]
     },
     "execution_count": 85,
     "metadata": {},
     "output_type": "execute_result"
    }
   ],
   "source": [
    "#concat metric eval\n",
    "all_metric = pd.concat([df_mtrc, df_mtrc_rand], axis=0)\n",
    "all_metric.sort_values(['precision(+)', 'recall(-)', 'accuracy', 'auc'], ascending=False)"
   ]
  },
  {
   "cell_type": "code",
   "execution_count": 83,
   "metadata": {},
   "outputs": [
    {
     "data": {
      "image/png": "[encoded data removed]",
      "text/plain": [
       "<Figure size 1080x360 with 1 Axes>"
      ]
     },
     "metadata": {
      "needs_background": "light"
     },
     "output_type": "display_data"
    }
   ],
   "source": [
    "plt.figure(figsize=(15,5))\n",
    "plt.title(\"Model's Evaluation Metrics Comparison\", size=15, fontweight='bold')\n",
    "\n",
    "plt.plot(all_metric.index, all_metric['precision(+)'], label = 'Precision(+)', color='red', marker='o', markersize=5)\n",
    "plt.plot(all_metric.index, all_metric['recall(-)'], label = 'Recall(-)', color='blue', marker='o', markersize=5)\n",
    "plt.plot(all_metric.index, all_metric['accuracy'], label = 'Accuracy', color='green', marker='o', markersize=5)\n",
    "plt.plot(all_metric.index, all_metric['auc'], label = 'ROC AUC', color='orange', marker='o', markersize=5)\n",
    "plt.legend(loc='lower right')\n",
    "plt.show()"
   ]
  },
  {
   "cell_type": "markdown",
   "metadata": {},
   "source": [
    "## Best Model\n",
    "#### Gradient Boosting Classifier (without tuning)"
   ]
  },
  {
   "cell_type": "markdown",
   "metadata": {},
   "source": [
    "## Deploy Model"
   ]
  },
  {
   "cell_type": "code",
   "execution_count": 71,
   "metadata": {},
   "outputs": [],
   "source": [
    "import joblib"
   ]
  },
  {
   "cell_type": "code",
   "execution_count": 72,
   "metadata": {},
   "outputs": [
    {
     "data": {
      "text/plain": [
       "['gradient_model_final']"
      ]
     },
     "execution_count": 72,
     "metadata": {},
     "output_type": "execute_result"
    }
   ],
   "source": [
    "joblib.dump(gradient, 'gradient_model_final')"
   ]
  },
  {
   "cell_type": "code",
   "execution_count": null,
   "metadata": {},
   "outputs": [],
   "source": []
  },
  {
   "cell_type": "code",
   "execution_count": null,
   "metadata": {},
   "outputs": [],
   "source": []
  },
  {
   "cell_type": "code",
   "execution_count": null,
   "metadata": {},
   "outputs": [],
   "source": []
  },
  {
   "cell_type": "code",
   "execution_count": null,
   "metadata": {},
   "outputs": [],
   "source": []
  }
 ],
 "metadata": {
  "kernelspec": {
   "display_name": "Python 3",
   "language": "python",
   "name": "python3"
  },
  "language_info": {
   "codemirror_mode": {
    "name": "ipython",
    "version": 3
   },
   "file_extension": ".py",
   "mimetype": "text/x-python",
   "name": "python",
   "nbconvert_exporter": "python",
   "pygments_lexer": "ipython3",
   "version": "3.7.7"
  }
 },
 "nbformat": 4,
 "nbformat_minor": 4
}
